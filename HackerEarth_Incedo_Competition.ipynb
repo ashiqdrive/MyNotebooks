{
  "nbformat": 4,
  "nbformat_minor": 0,
  "metadata": {
    "colab": {
      "name": "HackerEarth_Incedo.ipynb",
      "version": "0.3.2",
      "provenance": [],
      "collapsed_sections": []
    },
    "kernelspec": {
      "name": "python3",
      "display_name": "Python 3"
    },
    "accelerator": "GPU"
  },
  "cells": [
    {
      "cell_type": "code",
      "metadata": {
        "id": "RYChbUelVEOH",
        "colab_type": "code",
        "colab": {}
      },
      "source": [
        "#Boiler plate code to import libraries\n",
        "import numpy as np\n",
        "import pandas as pd\n",
        "import matplotlib.pyplot as plt\n",
        "%matplotlib inline\n",
        "import seaborn as sns"
      ],
      "execution_count": 0,
      "outputs": []
    },
    {
      "cell_type": "code",
      "metadata": {
        "id": "u84FEbtux9aX",
        "colab_type": "code",
        "outputId": "a1e05d84-cb8d-4de8-f754-704809a6cb90",
        "colab": {
          "base_uri": "https://localhost:8080/",
          "height": 122
        }
      },
      "source": [
        "from google.colab import drive\n",
        "drive.mount('/content/drive')"
      ],
      "execution_count": 2,
      "outputs": [
        {
          "output_type": "stream",
          "text": [
            "Go to this URL in a browser: https://accounts.google.com/o/oauth2/auth?client_id=947318989803-6bn6qk8qdgf4n4g3pfee6491hc0brc4i.apps.googleusercontent.com&redirect_uri=urn%3Aietf%3Awg%3Aoauth%3A2.0%3Aoob&scope=email%20https%3A%2F%2Fwww.googleapis.com%2Fauth%2Fdocs.test%20https%3A%2F%2Fwww.googleapis.com%2Fauth%2Fdrive%20https%3A%2F%2Fwww.googleapis.com%2Fauth%2Fdrive.photos.readonly%20https%3A%2F%2Fwww.googleapis.com%2Fauth%2Fpeopleapi.readonly&response_type=code\n",
            "\n",
            "Enter your authorization code:\n",
            "··········\n",
            "Mounted at /content/drive\n"
          ],
          "name": "stdout"
        }
      ]
    },
    {
      "cell_type": "code",
      "metadata": {
        "id": "P1u5sEPxzT37",
        "colab_type": "code",
        "colab": {}
      },
      "source": [
        "drug_train_path = '/content/drive/My Drive/csvs/drug_train_file.csv'\n",
        "drug_test_path = '/content/drive/My Drive/csvs/drug_test_file.csv'"
      ],
      "execution_count": 0,
      "outputs": []
    },
    {
      "cell_type": "code",
      "metadata": {
        "id": "zRoacZvGWmh0",
        "colab_type": "code",
        "colab": {}
      },
      "source": [
        "df = pd.read_csv(drug_train_path)"
      ],
      "execution_count": 0,
      "outputs": []
    },
    {
      "cell_type": "code",
      "metadata": {
        "id": "y_0TTHNQe5PC",
        "colab_type": "code",
        "outputId": "161c818c-bb5e-4400-cfc4-f119e9280d3f",
        "colab": {
          "base_uri": "https://localhost:8080/",
          "height": 838
        }
      },
      "source": [
        "df.head(10)"
      ],
      "execution_count": 5,
      "outputs": [
        {
          "output_type": "execute_result",
          "data": {
            "text/html": [
              "<div>\n",
              "<style scoped>\n",
              "    .dataframe tbody tr th:only-of-type {\n",
              "        vertical-align: middle;\n",
              "    }\n",
              "\n",
              "    .dataframe tbody tr th {\n",
              "        vertical-align: top;\n",
              "    }\n",
              "\n",
              "    .dataframe thead th {\n",
              "        text-align: right;\n",
              "    }\n",
              "</style>\n",
              "<table border=\"1\" class=\"dataframe\">\n",
              "  <thead>\n",
              "    <tr style=\"text-align: right;\">\n",
              "      <th></th>\n",
              "      <th>Patient_ID</th>\n",
              "      <th>YEAR</th>\n",
              "      <th>LocationDesc</th>\n",
              "      <th>Subtopic</th>\n",
              "      <th>Greater_Risk_Question</th>\n",
              "      <th>Description</th>\n",
              "      <th>Sample_Size</th>\n",
              "      <th>Sex</th>\n",
              "      <th>Race</th>\n",
              "      <th>Grade</th>\n",
              "      <th>GeoLocation</th>\n",
              "      <th>QuestionCode</th>\n",
              "      <th>StratID1</th>\n",
              "      <th>StratID2</th>\n",
              "      <th>StratID3</th>\n",
              "      <th>StratificationType</th>\n",
              "      <th>Greater_Risk_Probability</th>\n",
              "    </tr>\n",
              "  </thead>\n",
              "  <tbody>\n",
              "    <tr>\n",
              "      <th>0</th>\n",
              "      <td>1</td>\n",
              "      <td>1995</td>\n",
              "      <td>Houston, TX</td>\n",
              "      <td>1</td>\n",
              "      <td>Ever used cocaine</td>\n",
              "      <td>any form of cocaine, such as powder, crack, or...</td>\n",
              "      <td>335.0</td>\n",
              "      <td>Female</td>\n",
              "      <td>Hispanic or Latino</td>\n",
              "      <td>4</td>\n",
              "      <td>(29.760427, -95.369803)</td>\n",
              "      <td>H49</td>\n",
              "      <td>1</td>\n",
              "      <td>4</td>\n",
              "      <td>0</td>\n",
              "      <td>Local</td>\n",
              "      <td>7.4793</td>\n",
              "    </tr>\n",
              "    <tr>\n",
              "      <th>1</th>\n",
              "      <td>2</td>\n",
              "      <td>1997</td>\n",
              "      <td>Houston, TX</td>\n",
              "      <td>0</td>\n",
              "      <td>Currently drank alcohol</td>\n",
              "      <td>at least one drink of alcohol, on at least 1 d...</td>\n",
              "      <td>382.0</td>\n",
              "      <td>Total</td>\n",
              "      <td>Black or African American</td>\n",
              "      <td>4</td>\n",
              "      <td>(29.760427, -95.369803)</td>\n",
              "      <td>H42</td>\n",
              "      <td>0</td>\n",
              "      <td>3</td>\n",
              "      <td>0</td>\n",
              "      <td>Local</td>\n",
              "      <td>49.6852</td>\n",
              "    </tr>\n",
              "    <tr>\n",
              "      <th>2</th>\n",
              "      <td>3</td>\n",
              "      <td>1993</td>\n",
              "      <td>Nevada</td>\n",
              "      <td>0</td>\n",
              "      <td>Had their first drink of alcohol before age 13...</td>\n",
              "      <td>other than a few sips</td>\n",
              "      <td>196.0</td>\n",
              "      <td>Female</td>\n",
              "      <td>White</td>\n",
              "      <td>0</td>\n",
              "      <td>(39.493240390000494, -117.07184056399967)</td>\n",
              "      <td>H41</td>\n",
              "      <td>1</td>\n",
              "      <td>6</td>\n",
              "      <td>2</td>\n",
              "      <td>State</td>\n",
              "      <td>47.8132</td>\n",
              "    </tr>\n",
              "    <tr>\n",
              "      <th>3</th>\n",
              "      <td>4</td>\n",
              "      <td>2017</td>\n",
              "      <td>Pennsylvania</td>\n",
              "      <td>1</td>\n",
              "      <td>Ever used cocaine</td>\n",
              "      <td>any form of cocaine, such as powder, crack, or...</td>\n",
              "      <td>104.0</td>\n",
              "      <td>Male</td>\n",
              "      <td>Asian</td>\n",
              "      <td>4</td>\n",
              "      <td>(40.79373015200048, -77.86070029399963)</td>\n",
              "      <td>H49</td>\n",
              "      <td>2</td>\n",
              "      <td>2</td>\n",
              "      <td>0</td>\n",
              "      <td>State</td>\n",
              "      <td>3.4554</td>\n",
              "    </tr>\n",
              "    <tr>\n",
              "      <th>4</th>\n",
              "      <td>5</td>\n",
              "      <td>2007</td>\n",
              "      <td>San Francisco, CA</td>\n",
              "      <td>1</td>\n",
              "      <td>Ever took steroids without a doctor's prescrip...</td>\n",
              "      <td>pills or shots, one or more times during their...</td>\n",
              "      <td>100.0</td>\n",
              "      <td>Female</td>\n",
              "      <td>Multiple Race</td>\n",
              "      <td>4</td>\n",
              "      <td>(37.77493, -122.419416)</td>\n",
              "      <td>H55</td>\n",
              "      <td>1</td>\n",
              "      <td>7</td>\n",
              "      <td>0</td>\n",
              "      <td>Local</td>\n",
              "      <td>0.0000</td>\n",
              "    </tr>\n",
              "    <tr>\n",
              "      <th>5</th>\n",
              "      <td>6</td>\n",
              "      <td>2015</td>\n",
              "      <td>Philadelphia, PA</td>\n",
              "      <td>1</td>\n",
              "      <td>Ever used inhalants</td>\n",
              "      <td>sniffed glue, breathed the contents of aerosol...</td>\n",
              "      <td>108.0</td>\n",
              "      <td>Male</td>\n",
              "      <td>Black or African American</td>\n",
              "      <td>3</td>\n",
              "      <td>(39.952584, -75.165222)</td>\n",
              "      <td>H50</td>\n",
              "      <td>2</td>\n",
              "      <td>3</td>\n",
              "      <td>1</td>\n",
              "      <td>Local</td>\n",
              "      <td>23.4575</td>\n",
              "    </tr>\n",
              "    <tr>\n",
              "      <th>6</th>\n",
              "      <td>7</td>\n",
              "      <td>2009</td>\n",
              "      <td>San Diego, CA</td>\n",
              "      <td>0</td>\n",
              "      <td>Currently drank alcohol</td>\n",
              "      <td>at least one drink of alcohol, on at least 1 d...</td>\n",
              "      <td>230.0</td>\n",
              "      <td>Female</td>\n",
              "      <td>Total</td>\n",
              "      <td>1</td>\n",
              "      <td>(32.715738, -117.161084)</td>\n",
              "      <td>H42</td>\n",
              "      <td>1</td>\n",
              "      <td>0</td>\n",
              "      <td>3</td>\n",
              "      <td>Local</td>\n",
              "      <td>45.7599</td>\n",
              "    </tr>\n",
              "    <tr>\n",
              "      <th>7</th>\n",
              "      <td>8</td>\n",
              "      <td>2007</td>\n",
              "      <td>Utah</td>\n",
              "      <td>0</td>\n",
              "      <td>Currently drank alcohol</td>\n",
              "      <td>at least one drink of alcohol, on at least 1 d...</td>\n",
              "      <td>180.0</td>\n",
              "      <td>Male</td>\n",
              "      <td>Total</td>\n",
              "      <td>1</td>\n",
              "      <td>(39.360700171000474, -111.58713063499971)</td>\n",
              "      <td>H42</td>\n",
              "      <td>2</td>\n",
              "      <td>0</td>\n",
              "      <td>3</td>\n",
              "      <td>State</td>\n",
              "      <td>23.3038</td>\n",
              "    </tr>\n",
              "    <tr>\n",
              "      <th>8</th>\n",
              "      <td>9</td>\n",
              "      <td>2017</td>\n",
              "      <td>West Virginia</td>\n",
              "      <td>1</td>\n",
              "      <td>Were offered, sold, or given an illegal drug o...</td>\n",
              "      <td>during the 12 months before the survey</td>\n",
              "      <td>427.0</td>\n",
              "      <td>Total</td>\n",
              "      <td>Total</td>\n",
              "      <td>1</td>\n",
              "      <td>(38.66551020200046, -80.71264013499967)</td>\n",
              "      <td>H58</td>\n",
              "      <td>0</td>\n",
              "      <td>0</td>\n",
              "      <td>3</td>\n",
              "      <td>State</td>\n",
              "      <td>30.7151</td>\n",
              "    </tr>\n",
              "    <tr>\n",
              "      <th>9</th>\n",
              "      <td>10</td>\n",
              "      <td>1999</td>\n",
              "      <td>Hawaii</td>\n",
              "      <td>1</td>\n",
              "      <td>Ever used inhalants</td>\n",
              "      <td>sniffed glue, breathed the contents of aerosol...</td>\n",
              "      <td>314.0</td>\n",
              "      <td>Total</td>\n",
              "      <td>Total</td>\n",
              "      <td>1</td>\n",
              "      <td>(21.304850435000446, -157.85774940299973)</td>\n",
              "      <td>H50</td>\n",
              "      <td>0</td>\n",
              "      <td>0</td>\n",
              "      <td>3</td>\n",
              "      <td>State</td>\n",
              "      <td>18.3384</td>\n",
              "    </tr>\n",
              "  </tbody>\n",
              "</table>\n",
              "</div>"
            ],
            "text/plain": [
              "   Patient_ID  YEAR       LocationDesc  Subtopic  \\\n",
              "0           1  1995        Houston, TX         1   \n",
              "1           2  1997        Houston, TX         0   \n",
              "2           3  1993             Nevada         0   \n",
              "3           4  2017       Pennsylvania         1   \n",
              "4           5  2007  San Francisco, CA         1   \n",
              "5           6  2015   Philadelphia, PA         1   \n",
              "6           7  2009      San Diego, CA         0   \n",
              "7           8  2007               Utah         0   \n",
              "8           9  2017      West Virginia         1   \n",
              "9          10  1999             Hawaii         1   \n",
              "\n",
              "                               Greater_Risk_Question  \\\n",
              "0                                  Ever used cocaine   \n",
              "1                            Currently drank alcohol   \n",
              "2  Had their first drink of alcohol before age 13...   \n",
              "3                                  Ever used cocaine   \n",
              "4  Ever took steroids without a doctor's prescrip...   \n",
              "5                                Ever used inhalants   \n",
              "6                            Currently drank alcohol   \n",
              "7                            Currently drank alcohol   \n",
              "8  Were offered, sold, or given an illegal drug o...   \n",
              "9                                Ever used inhalants   \n",
              "\n",
              "                                         Description  Sample_Size     Sex  \\\n",
              "0  any form of cocaine, such as powder, crack, or...        335.0  Female   \n",
              "1  at least one drink of alcohol, on at least 1 d...        382.0   Total   \n",
              "2                              other than a few sips        196.0  Female   \n",
              "3  any form of cocaine, such as powder, crack, or...        104.0    Male   \n",
              "4  pills or shots, one or more times during their...        100.0  Female   \n",
              "5  sniffed glue, breathed the contents of aerosol...        108.0    Male   \n",
              "6  at least one drink of alcohol, on at least 1 d...        230.0  Female   \n",
              "7  at least one drink of alcohol, on at least 1 d...        180.0    Male   \n",
              "8             during the 12 months before the survey        427.0   Total   \n",
              "9  sniffed glue, breathed the contents of aerosol...        314.0   Total   \n",
              "\n",
              "                        Race  Grade  \\\n",
              "0         Hispanic or Latino      4   \n",
              "1  Black or African American      4   \n",
              "2                      White      0   \n",
              "3                      Asian      4   \n",
              "4              Multiple Race      4   \n",
              "5  Black or African American      3   \n",
              "6                      Total      1   \n",
              "7                      Total      1   \n",
              "8                      Total      1   \n",
              "9                      Total      1   \n",
              "\n",
              "                                 GeoLocation QuestionCode  StratID1  StratID2  \\\n",
              "0                    (29.760427, -95.369803)          H49         1         4   \n",
              "1                    (29.760427, -95.369803)          H42         0         3   \n",
              "2  (39.493240390000494, -117.07184056399967)          H41         1         6   \n",
              "3    (40.79373015200048, -77.86070029399963)          H49         2         2   \n",
              "4                    (37.77493, -122.419416)          H55         1         7   \n",
              "5                    (39.952584, -75.165222)          H50         2         3   \n",
              "6                   (32.715738, -117.161084)          H42         1         0   \n",
              "7  (39.360700171000474, -111.58713063499971)          H42         2         0   \n",
              "8    (38.66551020200046, -80.71264013499967)          H58         0         0   \n",
              "9  (21.304850435000446, -157.85774940299973)          H50         0         0   \n",
              "\n",
              "   StratID3 StratificationType  Greater_Risk_Probability  \n",
              "0         0              Local                    7.4793  \n",
              "1         0              Local                   49.6852  \n",
              "2         2              State                   47.8132  \n",
              "3         0              State                    3.4554  \n",
              "4         0              Local                    0.0000  \n",
              "5         1              Local                   23.4575  \n",
              "6         3              Local                   45.7599  \n",
              "7         3              State                   23.3038  \n",
              "8         3              State                   30.7151  \n",
              "9         3              State                   18.3384  "
            ]
          },
          "metadata": {
            "tags": []
          },
          "execution_count": 5
        }
      ]
    },
    {
      "cell_type": "markdown",
      "metadata": {
        "id": "2q4sQ150xJbx",
        "colab_type": "text"
      },
      "source": [
        "#Column Names"
      ]
    },
    {
      "cell_type": "code",
      "metadata": {
        "id": "eqPfRb-pe78f",
        "colab_type": "code",
        "outputId": "6db333c5-9883-4daa-85ca-c32381025147",
        "colab": {
          "base_uri": "https://localhost:8080/",
          "height": 102
        }
      },
      "source": [
        "df.columns"
      ],
      "execution_count": 6,
      "outputs": [
        {
          "output_type": "execute_result",
          "data": {
            "text/plain": [
              "Index(['Patient_ID', 'YEAR', 'LocationDesc', 'Subtopic',\n",
              "       'Greater_Risk_Question', 'Description', 'Sample_Size', 'Sex', 'Race',\n",
              "       'Grade', 'GeoLocation', 'QuestionCode', 'StratID1', 'StratID2',\n",
              "       'StratID3', 'StratificationType', 'Greater_Risk_Probability'],\n",
              "      dtype='object')"
            ]
          },
          "metadata": {
            "tags": []
          },
          "execution_count": 6
        }
      ]
    },
    {
      "cell_type": "markdown",
      "metadata": {
        "id": "mZSEManfxOMV",
        "colab_type": "text"
      },
      "source": [
        "#Data Types of Columns"
      ]
    },
    {
      "cell_type": "code",
      "metadata": {
        "id": "npM1XcHNqCs1",
        "colab_type": "code",
        "outputId": "e10e1339-aff3-4388-af3e-be0ca18061cf",
        "colab": {
          "base_uri": "https://localhost:8080/",
          "height": 323
        }
      },
      "source": [
        "df.dtypes"
      ],
      "execution_count": 7,
      "outputs": [
        {
          "output_type": "execute_result",
          "data": {
            "text/plain": [
              "Patient_ID                    int64\n",
              "YEAR                          int64\n",
              "LocationDesc                 object\n",
              "Subtopic                      int64\n",
              "Greater_Risk_Question        object\n",
              "Description                  object\n",
              "Sample_Size                 float64\n",
              "Sex                          object\n",
              "Race                         object\n",
              "Grade                         int64\n",
              "GeoLocation                  object\n",
              "QuestionCode                 object\n",
              "StratID1                      int64\n",
              "StratID2                      int64\n",
              "StratID3                      int64\n",
              "StratificationType           object\n",
              "Greater_Risk_Probability    float64\n",
              "dtype: object"
            ]
          },
          "metadata": {
            "tags": []
          },
          "execution_count": 7
        }
      ]
    },
    {
      "cell_type": "code",
      "metadata": {
        "id": "EKHkSUETL-Nu",
        "colab_type": "code",
        "outputId": "cd544c53-c541-459e-ca16-4c3db9dabf17",
        "colab": {
          "base_uri": "https://localhost:8080/",
          "height": 136
        }
      },
      "source": [
        "df.columns.to_series().groupby(df.dtypes).groups"
      ],
      "execution_count": 8,
      "outputs": [
        {
          "output_type": "execute_result",
          "data": {
            "text/plain": [
              "{dtype('int64'): Index(['Patient_ID', 'YEAR', 'Subtopic', 'Grade', 'StratID1', 'StratID2',\n",
              "        'StratID3'],\n",
              "       dtype='object'),\n",
              " dtype('float64'): Index(['Sample_Size', 'Greater_Risk_Probability'], dtype='object'),\n",
              " dtype('O'): Index(['LocationDesc', 'Greater_Risk_Question', 'Description', 'Sex', 'Race',\n",
              "        'GeoLocation', 'QuestionCode', 'StratificationType'],\n",
              "       dtype='object')}"
            ]
          },
          "metadata": {
            "tags": []
          },
          "execution_count": 8
        }
      ]
    },
    {
      "cell_type": "markdown",
      "metadata": {
        "id": "uPHcEXcZxQ4j",
        "colab_type": "text"
      },
      "source": [
        "#Checking for Null values"
      ]
    },
    {
      "cell_type": "code",
      "metadata": {
        "id": "lTRG31ykQDMs",
        "colab_type": "code",
        "outputId": "b73f4390-2c40-41d1-b80e-35a82e8eb463",
        "colab": {
          "base_uri": "https://localhost:8080/",
          "height": 323
        }
      },
      "source": [
        "df.isnull().sum(axis = 0)"
      ],
      "execution_count": 0,
      "outputs": [
        {
          "output_type": "execute_result",
          "data": {
            "text/plain": [
              "Patient_ID                     0\n",
              "YEAR                           0\n",
              "LocationDesc                   0\n",
              "Subtopic                       0\n",
              "Greater_Risk_Question          0\n",
              "Description                    0\n",
              "Sample_Size                    0\n",
              "Sex                            0\n",
              "Race                           0\n",
              "Grade                          0\n",
              "GeoLocation                 3301\n",
              "QuestionCode                   0\n",
              "StratID1                       0\n",
              "StratID2                       0\n",
              "StratID3                       0\n",
              "StratificationType             0\n",
              "Greater_Risk_Probability       0\n",
              "dtype: int64"
            ]
          },
          "metadata": {
            "tags": []
          },
          "execution_count": 10
        }
      ]
    },
    {
      "cell_type": "markdown",
      "metadata": {
        "id": "qX8nFtikEyP7",
        "colab_type": "text"
      },
      "source": [
        "#Setting Patient id as index"
      ]
    },
    {
      "cell_type": "code",
      "metadata": {
        "id": "5nF6yVGARrLo",
        "colab_type": "code",
        "colab": {}
      },
      "source": [
        "#setting patient id as index\n",
        "df.set_index('Patient_ID', inplace=True)"
      ],
      "execution_count": 0,
      "outputs": []
    },
    {
      "cell_type": "code",
      "metadata": {
        "id": "n5hRZj_g762Y",
        "colab_type": "code",
        "outputId": "81dc8eb5-4286-48f5-d892-e5966e1aea11",
        "colab": {
          "base_uri": "https://localhost:8080/",
          "height": 510
        }
      },
      "source": [
        "df.head(5)"
      ],
      "execution_count": 0,
      "outputs": [
        {
          "output_type": "execute_result",
          "data": {
            "text/html": [
              "<div>\n",
              "<style scoped>\n",
              "    .dataframe tbody tr th:only-of-type {\n",
              "        vertical-align: middle;\n",
              "    }\n",
              "\n",
              "    .dataframe tbody tr th {\n",
              "        vertical-align: top;\n",
              "    }\n",
              "\n",
              "    .dataframe thead th {\n",
              "        text-align: right;\n",
              "    }\n",
              "</style>\n",
              "<table border=\"1\" class=\"dataframe\">\n",
              "  <thead>\n",
              "    <tr style=\"text-align: right;\">\n",
              "      <th></th>\n",
              "      <th>YEAR</th>\n",
              "      <th>LocationDesc</th>\n",
              "      <th>Subtopic</th>\n",
              "      <th>Greater_Risk_Question</th>\n",
              "      <th>Description</th>\n",
              "      <th>Sample_Size</th>\n",
              "      <th>Sex</th>\n",
              "      <th>Race</th>\n",
              "      <th>Grade</th>\n",
              "      <th>GeoLocation</th>\n",
              "      <th>QuestionCode</th>\n",
              "      <th>StratID1</th>\n",
              "      <th>StratID2</th>\n",
              "      <th>StratID3</th>\n",
              "      <th>StratificationType</th>\n",
              "      <th>Greater_Risk_Probability</th>\n",
              "    </tr>\n",
              "    <tr>\n",
              "      <th>Patient_ID</th>\n",
              "      <th></th>\n",
              "      <th></th>\n",
              "      <th></th>\n",
              "      <th></th>\n",
              "      <th></th>\n",
              "      <th></th>\n",
              "      <th></th>\n",
              "      <th></th>\n",
              "      <th></th>\n",
              "      <th></th>\n",
              "      <th></th>\n",
              "      <th></th>\n",
              "      <th></th>\n",
              "      <th></th>\n",
              "      <th></th>\n",
              "      <th></th>\n",
              "    </tr>\n",
              "  </thead>\n",
              "  <tbody>\n",
              "    <tr>\n",
              "      <th>1</th>\n",
              "      <td>1995</td>\n",
              "      <td>Houston, TX</td>\n",
              "      <td>1</td>\n",
              "      <td>Ever used cocaine</td>\n",
              "      <td>any form of cocaine, such as powder, crack, or...</td>\n",
              "      <td>335.0</td>\n",
              "      <td>Female</td>\n",
              "      <td>Hispanic or Latino</td>\n",
              "      <td>4</td>\n",
              "      <td>(29.760427, -95.369803)</td>\n",
              "      <td>H49</td>\n",
              "      <td>1</td>\n",
              "      <td>4</td>\n",
              "      <td>0</td>\n",
              "      <td>Local</td>\n",
              "      <td>7.4793</td>\n",
              "    </tr>\n",
              "    <tr>\n",
              "      <th>2</th>\n",
              "      <td>1997</td>\n",
              "      <td>Houston, TX</td>\n",
              "      <td>0</td>\n",
              "      <td>Currently drank alcohol</td>\n",
              "      <td>at least one drink of alcohol, on at least 1 d...</td>\n",
              "      <td>382.0</td>\n",
              "      <td>Total</td>\n",
              "      <td>Black or African American</td>\n",
              "      <td>4</td>\n",
              "      <td>(29.760427, -95.369803)</td>\n",
              "      <td>H42</td>\n",
              "      <td>0</td>\n",
              "      <td>3</td>\n",
              "      <td>0</td>\n",
              "      <td>Local</td>\n",
              "      <td>49.6852</td>\n",
              "    </tr>\n",
              "    <tr>\n",
              "      <th>3</th>\n",
              "      <td>1993</td>\n",
              "      <td>Nevada</td>\n",
              "      <td>0</td>\n",
              "      <td>Had their first drink of alcohol before age 13...</td>\n",
              "      <td>other than a few sips</td>\n",
              "      <td>196.0</td>\n",
              "      <td>Female</td>\n",
              "      <td>White</td>\n",
              "      <td>0</td>\n",
              "      <td>(39.493240390000494, -117.07184056399967)</td>\n",
              "      <td>H41</td>\n",
              "      <td>1</td>\n",
              "      <td>6</td>\n",
              "      <td>2</td>\n",
              "      <td>State</td>\n",
              "      <td>47.8132</td>\n",
              "    </tr>\n",
              "    <tr>\n",
              "      <th>4</th>\n",
              "      <td>2017</td>\n",
              "      <td>Pennsylvania</td>\n",
              "      <td>1</td>\n",
              "      <td>Ever used cocaine</td>\n",
              "      <td>any form of cocaine, such as powder, crack, or...</td>\n",
              "      <td>104.0</td>\n",
              "      <td>Male</td>\n",
              "      <td>Asian</td>\n",
              "      <td>4</td>\n",
              "      <td>(40.79373015200048, -77.86070029399963)</td>\n",
              "      <td>H49</td>\n",
              "      <td>2</td>\n",
              "      <td>2</td>\n",
              "      <td>0</td>\n",
              "      <td>State</td>\n",
              "      <td>3.4554</td>\n",
              "    </tr>\n",
              "    <tr>\n",
              "      <th>5</th>\n",
              "      <td>2007</td>\n",
              "      <td>San Francisco, CA</td>\n",
              "      <td>1</td>\n",
              "      <td>Ever took steroids without a doctor's prescrip...</td>\n",
              "      <td>pills or shots, one or more times during their...</td>\n",
              "      <td>100.0</td>\n",
              "      <td>Female</td>\n",
              "      <td>Multiple Race</td>\n",
              "      <td>4</td>\n",
              "      <td>(37.77493, -122.419416)</td>\n",
              "      <td>H55</td>\n",
              "      <td>1</td>\n",
              "      <td>7</td>\n",
              "      <td>0</td>\n",
              "      <td>Local</td>\n",
              "      <td>0.0000</td>\n",
              "    </tr>\n",
              "  </tbody>\n",
              "</table>\n",
              "</div>"
            ],
            "text/plain": [
              "            YEAR       LocationDesc  Subtopic  \\\n",
              "Patient_ID                                      \n",
              "1           1995        Houston, TX         1   \n",
              "2           1997        Houston, TX         0   \n",
              "3           1993             Nevada         0   \n",
              "4           2017       Pennsylvania         1   \n",
              "5           2007  San Francisco, CA         1   \n",
              "\n",
              "                                        Greater_Risk_Question  \\\n",
              "Patient_ID                                                      \n",
              "1                                           Ever used cocaine   \n",
              "2                                     Currently drank alcohol   \n",
              "3           Had their first drink of alcohol before age 13...   \n",
              "4                                           Ever used cocaine   \n",
              "5           Ever took steroids without a doctor's prescrip...   \n",
              "\n",
              "                                                  Description  Sample_Size  \\\n",
              "Patient_ID                                                                   \n",
              "1           any form of cocaine, such as powder, crack, or...        335.0   \n",
              "2           at least one drink of alcohol, on at least 1 d...        382.0   \n",
              "3                                       other than a few sips        196.0   \n",
              "4           any form of cocaine, such as powder, crack, or...        104.0   \n",
              "5           pills or shots, one or more times during their...        100.0   \n",
              "\n",
              "               Sex                       Race  Grade  \\\n",
              "Patient_ID                                             \n",
              "1           Female         Hispanic or Latino      4   \n",
              "2            Total  Black or African American      4   \n",
              "3           Female                      White      0   \n",
              "4             Male                      Asian      4   \n",
              "5           Female              Multiple Race      4   \n",
              "\n",
              "                                          GeoLocation QuestionCode  StratID1  \\\n",
              "Patient_ID                                                                     \n",
              "1                             (29.760427, -95.369803)          H49         1   \n",
              "2                             (29.760427, -95.369803)          H42         0   \n",
              "3           (39.493240390000494, -117.07184056399967)          H41         1   \n",
              "4             (40.79373015200048, -77.86070029399963)          H49         2   \n",
              "5                             (37.77493, -122.419416)          H55         1   \n",
              "\n",
              "            StratID2  StratID3 StratificationType  Greater_Risk_Probability  \n",
              "Patient_ID                                                                   \n",
              "1                  4         0              Local                    7.4793  \n",
              "2                  3         0              Local                   49.6852  \n",
              "3                  6         2              State                   47.8132  \n",
              "4                  2         0              State                    3.4554  \n",
              "5                  7         0              Local                    0.0000  "
            ]
          },
          "metadata": {
            "tags": []
          },
          "execution_count": 12
        }
      ]
    },
    {
      "cell_type": "markdown",
      "metadata": {
        "id": "gBkHtlCr4yBp",
        "colab_type": "text"
      },
      "source": [
        "##Removing Unnecessary columns which contains only question and question id\n",
        " **NOTE**\n",
        " 'Sub topic' is not removed because 0 means Alcohol and 1 means Cocain"
      ]
    },
    {
      "cell_type": "code",
      "metadata": {
        "id": "KXMYWq87u2ha",
        "colab_type": "code",
        "colab": {}
      },
      "source": [
        "#unnecessary_columns = ['GeoLocation','Greater_Risk_Question','Description','QuestionCode']"
      ],
      "execution_count": 0,
      "outputs": []
    },
    {
      "cell_type": "code",
      "metadata": {
        "id": "WSna7_Uf4r4K",
        "colab_type": "code",
        "colab": {}
      },
      "source": [
        "#df.drop(unnecessary_columns, axis=1, inplace=True)"
      ],
      "execution_count": 0,
      "outputs": []
    },
    {
      "cell_type": "code",
      "metadata": {
        "id": "ACrmbsYM4r1P",
        "colab_type": "code",
        "colab": {}
      },
      "source": [
        "#df.columns.to_series().groupby(df.dtypes).groups"
      ],
      "execution_count": 0,
      "outputs": []
    },
    {
      "cell_type": "code",
      "metadata": {
        "id": "Z40hCAX35jt6",
        "colab_type": "code",
        "colab": {}
      },
      "source": [
        "#columns_to_drop = ['StratID1','StratID2', 'StratID3','LocationDesc','Race','StratificationType']"
      ],
      "execution_count": 0,
      "outputs": []
    },
    {
      "cell_type": "code",
      "metadata": {
        "id": "aXZ5YOo7z0eo",
        "colab_type": "code",
        "colab": {}
      },
      "source": [
        "#modified_df = df.drop(columns_to_drop, axis = 1)"
      ],
      "execution_count": 0,
      "outputs": []
    },
    {
      "cell_type": "code",
      "metadata": {
        "id": "cS9tRZDO2Xlj",
        "colab_type": "code",
        "colab": {}
      },
      "source": [
        "#type(list(modified_df.columns.values))"
      ],
      "execution_count": 0,
      "outputs": []
    },
    {
      "cell_type": "markdown",
      "metadata": {
        "id": "6hXA1Pii57Op",
        "colab_type": "text"
      },
      "source": [
        "#Selecting Only useful Features"
      ]
    },
    {
      "cell_type": "code",
      "metadata": {
        "id": "ODDVcqEg7H74",
        "colab_type": "code",
        "colab": {}
      },
      "source": [
        "columns_selected = ['YEAR', 'Subtopic', 'Sample_Size', 'Sex', 'Grade', 'Race', 'Greater_Risk_Probability']"
      ],
      "execution_count": 0,
      "outputs": []
    },
    {
      "cell_type": "code",
      "metadata": {
        "id": "M9GIx-DG7hPO",
        "colab_type": "code",
        "colab": {}
      },
      "source": [
        "to_train_df = df[columns_selected]"
      ],
      "execution_count": 0,
      "outputs": []
    },
    {
      "cell_type": "code",
      "metadata": {
        "id": "7E4dZcY48Dc0",
        "colab_type": "code",
        "outputId": "c58bbbaa-5558-49b0-e7c0-e86d6e643fbc",
        "colab": {
          "base_uri": "https://localhost:8080/",
          "height": 153
        }
      },
      "source": [
        "to_train_df.dtypes"
      ],
      "execution_count": 11,
      "outputs": [
        {
          "output_type": "execute_result",
          "data": {
            "text/plain": [
              "YEAR                          int64\n",
              "Subtopic                      int64\n",
              "Sample_Size                 float64\n",
              "Sex                          object\n",
              "Grade                         int64\n",
              "Race                         object\n",
              "Greater_Risk_Probability    float64\n",
              "dtype: object"
            ]
          },
          "metadata": {
            "tags": []
          },
          "execution_count": 11
        }
      ]
    },
    {
      "cell_type": "markdown",
      "metadata": {
        "id": "B4T0dPUvE7vq",
        "colab_type": "text"
      },
      "source": [
        "NOTE: **Changing some integer columns to Object type so that we can One Hot encode all object type columns in the dataframe easily with just a single line**"
      ]
    },
    {
      "cell_type": "code",
      "metadata": {
        "id": "fXlVbvcXX3Vd",
        "colab_type": "code",
        "outputId": "988c303c-8e2d-47dc-e425-9940212ed105",
        "colab": {
          "base_uri": "https://localhost:8080/",
          "height": 119
        }
      },
      "source": [
        "for col in ['Subtopic']:\n",
        "    to_train_df[col] = to_train_df[col].astype(np.object)"
      ],
      "execution_count": 12,
      "outputs": [
        {
          "output_type": "stream",
          "text": [
            "/usr/local/lib/python3.6/dist-packages/ipykernel_launcher.py:2: SettingWithCopyWarning: \n",
            "A value is trying to be set on a copy of a slice from a DataFrame.\n",
            "Try using .loc[row_indexer,col_indexer] = value instead\n",
            "\n",
            "See the caveats in the documentation: http://pandas.pydata.org/pandas-docs/stable/indexing.html#indexing-view-versus-copy\n",
            "  \n"
          ],
          "name": "stderr"
        }
      ]
    },
    {
      "cell_type": "code",
      "metadata": {
        "id": "HePyP2A3X3S_",
        "colab_type": "code",
        "outputId": "8117a164-acfd-49cb-db42-ce8c72610c22",
        "colab": {
          "base_uri": "https://localhost:8080/",
          "height": 153
        }
      },
      "source": [
        "to_train_df.dtypes"
      ],
      "execution_count": 13,
      "outputs": [
        {
          "output_type": "execute_result",
          "data": {
            "text/plain": [
              "YEAR                          int64\n",
              "Subtopic                     object\n",
              "Sample_Size                 float64\n",
              "Sex                          object\n",
              "Grade                         int64\n",
              "Race                         object\n",
              "Greater_Risk_Probability    float64\n",
              "dtype: object"
            ]
          },
          "metadata": {
            "tags": []
          },
          "execution_count": 13
        }
      ]
    },
    {
      "cell_type": "markdown",
      "metadata": {
        "id": "SjNrQgn8FsZX",
        "colab_type": "text"
      },
      "source": [
        "#Converting all object type columns in the dataframe to Dummy columns (One-Hot-Encode)"
      ]
    },
    {
      "cell_type": "code",
      "metadata": {
        "id": "2h_z527udQuM",
        "colab_type": "code",
        "colab": {}
      },
      "source": [
        "df_to_train = pd.get_dummies(to_train_df)"
      ],
      "execution_count": 0,
      "outputs": []
    },
    {
      "cell_type": "code",
      "metadata": {
        "id": "xDfdfJ8Vd6Uo",
        "colab_type": "code",
        "outputId": "82f6ea11-08f6-46ee-d2f7-ada1b1dd7cd3",
        "colab": {
          "base_uri": "https://localhost:8080/",
          "height": 292
        }
      },
      "source": [
        "df_to_train.head(5)"
      ],
      "execution_count": 15,
      "outputs": [
        {
          "output_type": "execute_result",
          "data": {
            "text/html": [
              "<div>\n",
              "<style scoped>\n",
              "    .dataframe tbody tr th:only-of-type {\n",
              "        vertical-align: middle;\n",
              "    }\n",
              "\n",
              "    .dataframe tbody tr th {\n",
              "        vertical-align: top;\n",
              "    }\n",
              "\n",
              "    .dataframe thead th {\n",
              "        text-align: right;\n",
              "    }\n",
              "</style>\n",
              "<table border=\"1\" class=\"dataframe\">\n",
              "  <thead>\n",
              "    <tr style=\"text-align: right;\">\n",
              "      <th></th>\n",
              "      <th>YEAR</th>\n",
              "      <th>Sample_Size</th>\n",
              "      <th>Grade</th>\n",
              "      <th>Greater_Risk_Probability</th>\n",
              "      <th>Subtopic_0</th>\n",
              "      <th>Subtopic_1</th>\n",
              "      <th>Sex_Female</th>\n",
              "      <th>Sex_Male</th>\n",
              "      <th>Sex_Total</th>\n",
              "      <th>Race_American Indian or Alaska Native</th>\n",
              "      <th>Race_Asian</th>\n",
              "      <th>Race_Black or African American</th>\n",
              "      <th>Race_Hispanic or Latino</th>\n",
              "      <th>Race_Multiple Race</th>\n",
              "      <th>Race_Native Hawaiian or Other Pacific Islander</th>\n",
              "      <th>Race_Total</th>\n",
              "      <th>Race_White</th>\n",
              "    </tr>\n",
              "  </thead>\n",
              "  <tbody>\n",
              "    <tr>\n",
              "      <th>0</th>\n",
              "      <td>1995</td>\n",
              "      <td>335.0</td>\n",
              "      <td>4</td>\n",
              "      <td>7.4793</td>\n",
              "      <td>0</td>\n",
              "      <td>1</td>\n",
              "      <td>1</td>\n",
              "      <td>0</td>\n",
              "      <td>0</td>\n",
              "      <td>0</td>\n",
              "      <td>0</td>\n",
              "      <td>0</td>\n",
              "      <td>1</td>\n",
              "      <td>0</td>\n",
              "      <td>0</td>\n",
              "      <td>0</td>\n",
              "      <td>0</td>\n",
              "    </tr>\n",
              "    <tr>\n",
              "      <th>1</th>\n",
              "      <td>1997</td>\n",
              "      <td>382.0</td>\n",
              "      <td>4</td>\n",
              "      <td>49.6852</td>\n",
              "      <td>1</td>\n",
              "      <td>0</td>\n",
              "      <td>0</td>\n",
              "      <td>0</td>\n",
              "      <td>1</td>\n",
              "      <td>0</td>\n",
              "      <td>0</td>\n",
              "      <td>1</td>\n",
              "      <td>0</td>\n",
              "      <td>0</td>\n",
              "      <td>0</td>\n",
              "      <td>0</td>\n",
              "      <td>0</td>\n",
              "    </tr>\n",
              "    <tr>\n",
              "      <th>2</th>\n",
              "      <td>1993</td>\n",
              "      <td>196.0</td>\n",
              "      <td>0</td>\n",
              "      <td>47.8132</td>\n",
              "      <td>1</td>\n",
              "      <td>0</td>\n",
              "      <td>1</td>\n",
              "      <td>0</td>\n",
              "      <td>0</td>\n",
              "      <td>0</td>\n",
              "      <td>0</td>\n",
              "      <td>0</td>\n",
              "      <td>0</td>\n",
              "      <td>0</td>\n",
              "      <td>0</td>\n",
              "      <td>0</td>\n",
              "      <td>1</td>\n",
              "    </tr>\n",
              "    <tr>\n",
              "      <th>3</th>\n",
              "      <td>2017</td>\n",
              "      <td>104.0</td>\n",
              "      <td>4</td>\n",
              "      <td>3.4554</td>\n",
              "      <td>0</td>\n",
              "      <td>1</td>\n",
              "      <td>0</td>\n",
              "      <td>1</td>\n",
              "      <td>0</td>\n",
              "      <td>0</td>\n",
              "      <td>1</td>\n",
              "      <td>0</td>\n",
              "      <td>0</td>\n",
              "      <td>0</td>\n",
              "      <td>0</td>\n",
              "      <td>0</td>\n",
              "      <td>0</td>\n",
              "    </tr>\n",
              "    <tr>\n",
              "      <th>4</th>\n",
              "      <td>2007</td>\n",
              "      <td>100.0</td>\n",
              "      <td>4</td>\n",
              "      <td>0.0000</td>\n",
              "      <td>0</td>\n",
              "      <td>1</td>\n",
              "      <td>1</td>\n",
              "      <td>0</td>\n",
              "      <td>0</td>\n",
              "      <td>0</td>\n",
              "      <td>0</td>\n",
              "      <td>0</td>\n",
              "      <td>0</td>\n",
              "      <td>1</td>\n",
              "      <td>0</td>\n",
              "      <td>0</td>\n",
              "      <td>0</td>\n",
              "    </tr>\n",
              "  </tbody>\n",
              "</table>\n",
              "</div>"
            ],
            "text/plain": [
              "   YEAR  Sample_Size  Grade  Greater_Risk_Probability  Subtopic_0  Subtopic_1  \\\n",
              "0  1995        335.0      4                    7.4793           0           1   \n",
              "1  1997        382.0      4                   49.6852           1           0   \n",
              "2  1993        196.0      0                   47.8132           1           0   \n",
              "3  2017        104.0      4                    3.4554           0           1   \n",
              "4  2007        100.0      4                    0.0000           0           1   \n",
              "\n",
              "   Sex_Female  Sex_Male  Sex_Total  Race_American Indian or Alaska Native  \\\n",
              "0           1         0          0                                      0   \n",
              "1           0         0          1                                      0   \n",
              "2           1         0          0                                      0   \n",
              "3           0         1          0                                      0   \n",
              "4           1         0          0                                      0   \n",
              "\n",
              "   Race_Asian  Race_Black or African American  Race_Hispanic or Latino  \\\n",
              "0           0                               0                        1   \n",
              "1           0                               1                        0   \n",
              "2           0                               0                        0   \n",
              "3           1                               0                        0   \n",
              "4           0                               0                        0   \n",
              "\n",
              "   Race_Multiple Race  Race_Native Hawaiian or Other Pacific Islander  \\\n",
              "0                   0                                               0   \n",
              "1                   0                                               0   \n",
              "2                   0                                               0   \n",
              "3                   0                                               0   \n",
              "4                   1                                               0   \n",
              "\n",
              "   Race_Total  Race_White  \n",
              "0           0           0  \n",
              "1           0           0  \n",
              "2           0           1  \n",
              "3           0           0  \n",
              "4           0           0  "
            ]
          },
          "metadata": {
            "tags": []
          },
          "execution_count": 15
        }
      ]
    },
    {
      "cell_type": "code",
      "metadata": {
        "id": "XoaHsFei9-pY",
        "colab_type": "code",
        "colab": {}
      },
      "source": [
        ""
      ],
      "execution_count": 0,
      "outputs": []
    },
    {
      "cell_type": "code",
      "metadata": {
        "id": "-PyV99YxysVZ",
        "colab_type": "code",
        "colab": {}
      },
      "source": [
        "#does not contain the column to predict\n",
        "X_main = df_to_train.drop('Greater_Risk_Probability', axis=1)"
      ],
      "execution_count": 0,
      "outputs": []
    },
    {
      "cell_type": "code",
      "metadata": {
        "id": "VqhpOM9x0Ga0",
        "colab_type": "code",
        "colab": {}
      },
      "source": [
        "y_main = df_to_train['Greater_Risk_Probability']"
      ],
      "execution_count": 0,
      "outputs": []
    },
    {
      "cell_type": "code",
      "metadata": {
        "id": "JzfSoVbR0JJE",
        "colab_type": "code",
        "colab": {}
      },
      "source": [
        "#Import sklearn \n",
        "from sklearn.model_selection import train_test_split\n",
        "from sklearn.metrics import mean_absolute_error\n",
        "from sklearn.metrics import mean_squared_error\n",
        "from math import sqrt\n",
        "from sklearn.preprocessing import MinMaxScaler\n",
        "from sklearn.preprocessing import StandardScaler\n"
      ],
      "execution_count": 0,
      "outputs": []
    },
    {
      "cell_type": "markdown",
      "metadata": {
        "id": "e8N6WKYGBXBM",
        "colab_type": "text"
      },
      "source": [
        "###Split Train and Test the train csv file data"
      ]
    },
    {
      "cell_type": "code",
      "metadata": {
        "id": "_-b719vE0hQR",
        "colab_type": "code",
        "colab": {}
      },
      "source": [
        "train_X, test_X, train_y, test_y = train_test_split(X_main.values, y_main.values, test_size=0.2)"
      ],
      "execution_count": 0,
      "outputs": []
    },
    {
      "cell_type": "code",
      "metadata": {
        "id": "RA9kOgCzB7Eh",
        "colab_type": "code",
        "outputId": "a9a40591-3fd7-4254-a260-cb78f67475f9",
        "colab": {
          "base_uri": "https://localhost:8080/",
          "height": 68
        }
      },
      "source": [
        "print(type(train_X))\n",
        "print(train_X.shape)\n",
        "print(train_y.shape)"
      ],
      "execution_count": 59,
      "outputs": [
        {
          "output_type": "stream",
          "text": [
            "<class 'numpy.ndarray'>\n",
            "(44319, 16)\n",
            "(44319,)\n"
          ],
          "name": "stdout"
        }
      ]
    },
    {
      "cell_type": "code",
      "metadata": {
        "id": "zr9YKrk3B6_L",
        "colab_type": "code",
        "outputId": "969bb218-1135-4b1d-bf23-91f8fa2a9b52",
        "colab": {
          "base_uri": "https://localhost:8080/",
          "height": 51
        }
      },
      "source": [
        "print(test_X.shape)\n",
        "print(test_y.shape)"
      ],
      "execution_count": 60,
      "outputs": [
        {
          "output_type": "stream",
          "text": [
            "(11080, 16)\n",
            "(11080,)\n"
          ],
          "name": "stdout"
        }
      ]
    },
    {
      "cell_type": "code",
      "metadata": {
        "id": "165nrb_99Ung",
        "colab_type": "code",
        "colab": {}
      },
      "source": [
        ""
      ],
      "execution_count": 0,
      "outputs": []
    },
    {
      "cell_type": "markdown",
      "metadata": {
        "id": "EY5ddLmDAx1A",
        "colab_type": "text"
      },
      "source": [
        "#XGBoost Model"
      ]
    },
    {
      "cell_type": "code",
      "metadata": {
        "id": "igxMPCEb_1zV",
        "colab_type": "code",
        "colab": {}
      },
      "source": [
        "from xgboost import XGBRegressor\n",
        "\n",
        "my_model = XGBRegressor(n_estimators=1000, \n",
        "                        learning_rate=0.2, \n",
        "                        max_depth=10, \n",
        "                        random_state=2)"
      ],
      "execution_count": 0,
      "outputs": []
    },
    {
      "cell_type": "code",
      "metadata": {
        "id": "9PCkewl1_82C",
        "colab_type": "code",
        "colab": {
          "base_uri": "https://localhost:8080/",
          "height": 136
        },
        "outputId": "e426436a-18c1-4f1b-94ad-54b9d635ee0c"
      },
      "source": [
        "#my_model.fit(X_main.values, y_main.values, \n",
        "#             early_stopping_rounds=5, \n",
        "#             eval_set=[(train_X, train_y)], \n",
        "#             verbose=False)\n",
        "\n",
        "my_model.fit(train_X, train_y, \n",
        "             early_stopping_rounds=5, \n",
        "             eval_set=[(test_X, test_y)], \n",
        "             verbose=False)"
      ],
      "execution_count": 63,
      "outputs": [
        {
          "output_type": "execute_result",
          "data": {
            "text/plain": [
              "XGBRegressor(base_score=0.5, booster='gbtree', colsample_bylevel=1,\n",
              "       colsample_bytree=1, gamma=0, importance_type='gain',\n",
              "       learning_rate=0.2, max_delta_step=0, max_depth=10,\n",
              "       min_child_weight=1, missing=None, n_estimators=1000, n_jobs=1,\n",
              "       nthread=None, objective='reg:linear', random_state=2, reg_alpha=0,\n",
              "       reg_lambda=1, scale_pos_weight=1, seed=None, silent=True,\n",
              "       subsample=1)"
            ]
          },
          "metadata": {
            "tags": []
          },
          "execution_count": 63
        }
      ]
    },
    {
      "cell_type": "code",
      "metadata": {
        "id": "Eh9HCK4_CwLW",
        "colab_type": "code",
        "colab": {
          "base_uri": "https://localhost:8080/",
          "height": 51
        },
        "outputId": "de6dd54d-596d-438e-a664-8a1fd6b8dfae"
      },
      "source": [
        "predictions = my_model.predict(test_X)\n",
        "\n",
        "print(\"Mean Absolute Error : \" + str(mean_absolute_error(predictions, test_y)))\n",
        "print(\"Root Mean Squared Error : \" + str(sqrt(mean_squared_error(predictions, test_y))))"
      ],
      "execution_count": 64,
      "outputs": [
        {
          "output_type": "stream",
          "text": [
            "Mean Absolute Error : 12.19575069025866\n",
            "Root Mean Squared Error : 15.645223869259983\n"
          ],
          "name": "stdout"
        }
      ]
    },
    {
      "cell_type": "markdown",
      "metadata": {
        "id": "hNhEKvVy_o8N",
        "colab_type": "text"
      },
      "source": [
        "Comparing the predictions with the original values"
      ]
    },
    {
      "cell_type": "code",
      "metadata": {
        "id": "9UMQryjG8S1i",
        "colab_type": "code",
        "colab": {
          "base_uri": "https://localhost:8080/",
          "height": 359
        },
        "outputId": "8b101d35-778c-4cb4-833f-9934a9a97d12"
      },
      "source": [
        "d = {'col1': test_y, 'col2': predictions}\n",
        "pd.DataFrame(data=d).head(10)"
      ],
      "execution_count": 65,
      "outputs": [
        {
          "output_type": "execute_result",
          "data": {
            "text/html": [
              "<div>\n",
              "<style scoped>\n",
              "    .dataframe tbody tr th:only-of-type {\n",
              "        vertical-align: middle;\n",
              "    }\n",
              "\n",
              "    .dataframe tbody tr th {\n",
              "        vertical-align: top;\n",
              "    }\n",
              "\n",
              "    .dataframe thead th {\n",
              "        text-align: right;\n",
              "    }\n",
              "</style>\n",
              "<table border=\"1\" class=\"dataframe\">\n",
              "  <thead>\n",
              "    <tr style=\"text-align: right;\">\n",
              "      <th></th>\n",
              "      <th>col1</th>\n",
              "      <th>col2</th>\n",
              "    </tr>\n",
              "  </thead>\n",
              "  <tbody>\n",
              "    <tr>\n",
              "      <th>0</th>\n",
              "      <td>70.1658</td>\n",
              "      <td>47.630035</td>\n",
              "    </tr>\n",
              "    <tr>\n",
              "      <th>1</th>\n",
              "      <td>49.2590</td>\n",
              "      <td>27.019041</td>\n",
              "    </tr>\n",
              "    <tr>\n",
              "      <th>2</th>\n",
              "      <td>85.7688</td>\n",
              "      <td>51.232944</td>\n",
              "    </tr>\n",
              "    <tr>\n",
              "      <th>3</th>\n",
              "      <td>9.4909</td>\n",
              "      <td>14.752901</td>\n",
              "    </tr>\n",
              "    <tr>\n",
              "      <th>4</th>\n",
              "      <td>57.0928</td>\n",
              "      <td>17.099251</td>\n",
              "    </tr>\n",
              "    <tr>\n",
              "      <th>5</th>\n",
              "      <td>7.4020</td>\n",
              "      <td>9.763540</td>\n",
              "    </tr>\n",
              "    <tr>\n",
              "      <th>6</th>\n",
              "      <td>2.5184</td>\n",
              "      <td>13.626575</td>\n",
              "    </tr>\n",
              "    <tr>\n",
              "      <th>7</th>\n",
              "      <td>4.3061</td>\n",
              "      <td>14.736990</td>\n",
              "    </tr>\n",
              "    <tr>\n",
              "      <th>8</th>\n",
              "      <td>31.9269</td>\n",
              "      <td>20.326035</td>\n",
              "    </tr>\n",
              "    <tr>\n",
              "      <th>9</th>\n",
              "      <td>52.9921</td>\n",
              "      <td>52.309841</td>\n",
              "    </tr>\n",
              "  </tbody>\n",
              "</table>\n",
              "</div>"
            ],
            "text/plain": [
              "      col1       col2\n",
              "0  70.1658  47.630035\n",
              "1  49.2590  27.019041\n",
              "2  85.7688  51.232944\n",
              "3   9.4909  14.752901\n",
              "4  57.0928  17.099251\n",
              "5   7.4020   9.763540\n",
              "6   2.5184  13.626575\n",
              "7   4.3061  14.736990\n",
              "8  31.9269  20.326035\n",
              "9  52.9921  52.309841"
            ]
          },
          "metadata": {
            "tags": []
          },
          "execution_count": 65
        }
      ]
    },
    {
      "cell_type": "code",
      "metadata": {
        "id": "nCcKt4mi_TBd",
        "colab_type": "code",
        "colab": {
          "base_uri": "https://localhost:8080/",
          "height": 297
        },
        "outputId": "69868ebb-fd98-49bd-f724-7423eef996a7"
      },
      "source": [
        "pd.DataFrame(data=d).describe()"
      ],
      "execution_count": 66,
      "outputs": [
        {
          "output_type": "execute_result",
          "data": {
            "text/html": [
              "<div>\n",
              "<style scoped>\n",
              "    .dataframe tbody tr th:only-of-type {\n",
              "        vertical-align: middle;\n",
              "    }\n",
              "\n",
              "    .dataframe tbody tr th {\n",
              "        vertical-align: top;\n",
              "    }\n",
              "\n",
              "    .dataframe thead th {\n",
              "        text-align: right;\n",
              "    }\n",
              "</style>\n",
              "<table border=\"1\" class=\"dataframe\">\n",
              "  <thead>\n",
              "    <tr style=\"text-align: right;\">\n",
              "      <th></th>\n",
              "      <th>col1</th>\n",
              "      <th>col2</th>\n",
              "    </tr>\n",
              "  </thead>\n",
              "  <tbody>\n",
              "    <tr>\n",
              "      <th>count</th>\n",
              "      <td>11080.000000</td>\n",
              "      <td>11080.000000</td>\n",
              "    </tr>\n",
              "    <tr>\n",
              "      <th>mean</th>\n",
              "      <td>24.240161</td>\n",
              "      <td>23.563269</td>\n",
              "    </tr>\n",
              "    <tr>\n",
              "      <th>std</th>\n",
              "      <td>20.556997</td>\n",
              "      <td>13.308393</td>\n",
              "    </tr>\n",
              "    <tr>\n",
              "      <th>min</th>\n",
              "      <td>0.000000</td>\n",
              "      <td>2.714002</td>\n",
              "    </tr>\n",
              "    <tr>\n",
              "      <th>25%</th>\n",
              "      <td>8.135550</td>\n",
              "      <td>15.011903</td>\n",
              "    </tr>\n",
              "    <tr>\n",
              "      <th>50%</th>\n",
              "      <td>17.397100</td>\n",
              "      <td>18.091591</td>\n",
              "    </tr>\n",
              "    <tr>\n",
              "      <th>75%</th>\n",
              "      <td>35.348600</td>\n",
              "      <td>26.138344</td>\n",
              "    </tr>\n",
              "    <tr>\n",
              "      <th>max</th>\n",
              "      <td>97.283700</td>\n",
              "      <td>73.509895</td>\n",
              "    </tr>\n",
              "  </tbody>\n",
              "</table>\n",
              "</div>"
            ],
            "text/plain": [
              "               col1          col2\n",
              "count  11080.000000  11080.000000\n",
              "mean      24.240161     23.563269\n",
              "std       20.556997     13.308393\n",
              "min        0.000000      2.714002\n",
              "25%        8.135550     15.011903\n",
              "50%       17.397100     18.091591\n",
              "75%       35.348600     26.138344\n",
              "max       97.283700     73.509895"
            ]
          },
          "metadata": {
            "tags": []
          },
          "execution_count": 66
        }
      ]
    },
    {
      "cell_type": "markdown",
      "metadata": {
        "id": "vfxlVauv8dzo",
        "colab_type": "text"
      },
      "source": [
        "#Scaled Model"
      ]
    },
    {
      "cell_type": "code",
      "metadata": {
        "id": "3E48kKH18ce7",
        "colab_type": "code",
        "colab": {}
      },
      "source": [
        "scaler = StandardScaler()\n",
        "train_X_scaled = scaler.fit_transform(train_X)\n",
        "test_X_scaled = scaler.fit_transform(test_X)"
      ],
      "execution_count": 0,
      "outputs": []
    },
    {
      "cell_type": "code",
      "metadata": {
        "id": "in5HYg__8ccg",
        "colab_type": "code",
        "colab": {}
      },
      "source": [
        "from xgboost import XGBRegressor\n",
        "\n",
        "my_scaled_model = XGBRegressor(n_estimators=1000, \n",
        "                        learning_rate=0.2, \n",
        "                        max_depth=10, \n",
        "                        random_state=2)"
      ],
      "execution_count": 0,
      "outputs": []
    },
    {
      "cell_type": "code",
      "metadata": {
        "id": "QMP8yww-8caB",
        "colab_type": "code",
        "colab": {
          "base_uri": "https://localhost:8080/",
          "height": 136
        },
        "outputId": "758500c7-1d36-48e6-c118-f0818dc5cd5c"
      },
      "source": [
        "my_scaled_model.fit(train_X_scaled, train_y, \n",
        "             early_stopping_rounds=5, \n",
        "             eval_set=[(test_X_scaled, test_y)], \n",
        "             verbose=False)\n",
        "\n",
        "#my_model.fit(train_X, train_y, \n",
        "#             early_stopping_rounds=5, \n",
        "#             eval_set=[(test_X, test_y)], \n",
        "#             verbose=False)"
      ],
      "execution_count": 69,
      "outputs": [
        {
          "output_type": "execute_result",
          "data": {
            "text/plain": [
              "XGBRegressor(base_score=0.5, booster='gbtree', colsample_bylevel=1,\n",
              "       colsample_bytree=1, gamma=0, importance_type='gain',\n",
              "       learning_rate=0.2, max_delta_step=0, max_depth=10,\n",
              "       min_child_weight=1, missing=None, n_estimators=1000, n_jobs=1,\n",
              "       nthread=None, objective='reg:linear', random_state=2, reg_alpha=0,\n",
              "       reg_lambda=1, scale_pos_weight=1, seed=None, silent=True,\n",
              "       subsample=1)"
            ]
          },
          "metadata": {
            "tags": []
          },
          "execution_count": 69
        }
      ]
    },
    {
      "cell_type": "code",
      "metadata": {
        "id": "aDWfXD138cW4",
        "colab_type": "code",
        "colab": {
          "base_uri": "https://localhost:8080/",
          "height": 51
        },
        "outputId": "0b5c8ff9-2ede-4631-a492-bb0bb664ebe8"
      },
      "source": [
        "predictions_scaled = my_scaled_model.predict(test_X)\n",
        "\n",
        "print(\"Mean Absolute Error : \" + str(mean_absolute_error(predictions, test_y)))\n",
        "print(\"Root Mean Squared Error : \" + str(sqrt(mean_squared_error(predictions, test_y))))"
      ],
      "execution_count": 70,
      "outputs": [
        {
          "output_type": "stream",
          "text": [
            "Mean Absolute Error : 12.19575069025866\n",
            "Root Mean Squared Error : 15.645223869259983\n"
          ],
          "name": "stdout"
        }
      ]
    },
    {
      "cell_type": "code",
      "metadata": {
        "id": "avD4-Anl8cP1",
        "colab_type": "code",
        "colab": {
          "base_uri": "https://localhost:8080/",
          "height": 359
        },
        "outputId": "89225d2c-6ad9-4ced-acc3-974730457e75"
      },
      "source": [
        "d_scaled = {'col1': test_y, 'col2': predictions_scaled}\n",
        "pd.DataFrame(data=d_scaled).head(10)"
      ],
      "execution_count": 71,
      "outputs": [
        {
          "output_type": "execute_result",
          "data": {
            "text/html": [
              "<div>\n",
              "<style scoped>\n",
              "    .dataframe tbody tr th:only-of-type {\n",
              "        vertical-align: middle;\n",
              "    }\n",
              "\n",
              "    .dataframe tbody tr th {\n",
              "        vertical-align: top;\n",
              "    }\n",
              "\n",
              "    .dataframe thead th {\n",
              "        text-align: right;\n",
              "    }\n",
              "</style>\n",
              "<table border=\"1\" class=\"dataframe\">\n",
              "  <thead>\n",
              "    <tr style=\"text-align: right;\">\n",
              "      <th></th>\n",
              "      <th>col1</th>\n",
              "      <th>col2</th>\n",
              "    </tr>\n",
              "  </thead>\n",
              "  <tbody>\n",
              "    <tr>\n",
              "      <th>0</th>\n",
              "      <td>70.1658</td>\n",
              "      <td>20.325171</td>\n",
              "    </tr>\n",
              "    <tr>\n",
              "      <th>1</th>\n",
              "      <td>49.2590</td>\n",
              "      <td>23.908958</td>\n",
              "    </tr>\n",
              "    <tr>\n",
              "      <th>2</th>\n",
              "      <td>85.7688</td>\n",
              "      <td>20.564642</td>\n",
              "    </tr>\n",
              "    <tr>\n",
              "      <th>3</th>\n",
              "      <td>9.4909</td>\n",
              "      <td>10.225652</td>\n",
              "    </tr>\n",
              "    <tr>\n",
              "      <th>4</th>\n",
              "      <td>57.0928</td>\n",
              "      <td>13.374605</td>\n",
              "    </tr>\n",
              "    <tr>\n",
              "      <th>5</th>\n",
              "      <td>7.4020</td>\n",
              "      <td>8.945653</td>\n",
              "    </tr>\n",
              "    <tr>\n",
              "      <th>6</th>\n",
              "      <td>2.5184</td>\n",
              "      <td>9.678649</td>\n",
              "    </tr>\n",
              "    <tr>\n",
              "      <th>7</th>\n",
              "      <td>4.3061</td>\n",
              "      <td>9.170400</td>\n",
              "    </tr>\n",
              "    <tr>\n",
              "      <th>8</th>\n",
              "      <td>31.9269</td>\n",
              "      <td>13.374605</td>\n",
              "    </tr>\n",
              "    <tr>\n",
              "      <th>9</th>\n",
              "      <td>52.9921</td>\n",
              "      <td>20.739988</td>\n",
              "    </tr>\n",
              "  </tbody>\n",
              "</table>\n",
              "</div>"
            ],
            "text/plain": [
              "      col1       col2\n",
              "0  70.1658  20.325171\n",
              "1  49.2590  23.908958\n",
              "2  85.7688  20.564642\n",
              "3   9.4909  10.225652\n",
              "4  57.0928  13.374605\n",
              "5   7.4020   8.945653\n",
              "6   2.5184   9.678649\n",
              "7   4.3061   9.170400\n",
              "8  31.9269  13.374605\n",
              "9  52.9921  20.739988"
            ]
          },
          "metadata": {
            "tags": []
          },
          "execution_count": 71
        }
      ]
    },
    {
      "cell_type": "code",
      "metadata": {
        "id": "oQO2uHj9-oYF",
        "colab_type": "code",
        "colab": {
          "base_uri": "https://localhost:8080/",
          "height": 297
        },
        "outputId": "2cf8de2f-a234-4372-8c1b-04c478e0559b"
      },
      "source": [
        "pd.DataFrame(data=d_scaled).head(10).describe()"
      ],
      "execution_count": 72,
      "outputs": [
        {
          "output_type": "execute_result",
          "data": {
            "text/html": [
              "<div>\n",
              "<style scoped>\n",
              "    .dataframe tbody tr th:only-of-type {\n",
              "        vertical-align: middle;\n",
              "    }\n",
              "\n",
              "    .dataframe tbody tr th {\n",
              "        vertical-align: top;\n",
              "    }\n",
              "\n",
              "    .dataframe thead th {\n",
              "        text-align: right;\n",
              "    }\n",
              "</style>\n",
              "<table border=\"1\" class=\"dataframe\">\n",
              "  <thead>\n",
              "    <tr style=\"text-align: right;\">\n",
              "      <th></th>\n",
              "      <th>col1</th>\n",
              "      <th>col2</th>\n",
              "    </tr>\n",
              "  </thead>\n",
              "  <tbody>\n",
              "    <tr>\n",
              "      <th>count</th>\n",
              "      <td>10.000000</td>\n",
              "      <td>10.000000</td>\n",
              "    </tr>\n",
              "    <tr>\n",
              "      <th>mean</th>\n",
              "      <td>37.092280</td>\n",
              "      <td>15.030833</td>\n",
              "    </tr>\n",
              "    <tr>\n",
              "      <th>std</th>\n",
              "      <td>30.192774</td>\n",
              "      <td>5.760638</td>\n",
              "    </tr>\n",
              "    <tr>\n",
              "      <th>min</th>\n",
              "      <td>2.518400</td>\n",
              "      <td>8.945653</td>\n",
              "    </tr>\n",
              "    <tr>\n",
              "      <th>25%</th>\n",
              "      <td>7.924225</td>\n",
              "      <td>9.815400</td>\n",
              "    </tr>\n",
              "    <tr>\n",
              "      <th>50%</th>\n",
              "      <td>40.592950</td>\n",
              "      <td>13.374605</td>\n",
              "    </tr>\n",
              "    <tr>\n",
              "      <th>75%</th>\n",
              "      <td>56.067625</td>\n",
              "      <td>20.504774</td>\n",
              "    </tr>\n",
              "    <tr>\n",
              "      <th>max</th>\n",
              "      <td>85.768800</td>\n",
              "      <td>23.908958</td>\n",
              "    </tr>\n",
              "  </tbody>\n",
              "</table>\n",
              "</div>"
            ],
            "text/plain": [
              "            col1       col2\n",
              "count  10.000000  10.000000\n",
              "mean   37.092280  15.030833\n",
              "std    30.192774   5.760638\n",
              "min     2.518400   8.945653\n",
              "25%     7.924225   9.815400\n",
              "50%    40.592950  13.374605\n",
              "75%    56.067625  20.504774\n",
              "max    85.768800  23.908958"
            ]
          },
          "metadata": {
            "tags": []
          },
          "execution_count": 72
        }
      ]
    },
    {
      "cell_type": "markdown",
      "metadata": {
        "id": "wqrjwjeNrb88",
        "colab_type": "text"
      },
      "source": [
        "#Saving Model"
      ]
    },
    {
      "cell_type": "code",
      "metadata": {
        "id": "j6JL4So74nWF",
        "colab_type": "code",
        "colab": {}
      },
      "source": [
        "modelname = 'model_to_submit_02.pickle.dat';\n",
        "fullpath = '/content/drive/My Drive/csvs/'+modelname;"
      ],
      "execution_count": 0,
      "outputs": []
    },
    {
      "cell_type": "code",
      "metadata": {
        "id": "BGL-SkZHyeyN",
        "colab_type": "code",
        "colab": {}
      },
      "source": [
        "import pickle"
      ],
      "execution_count": 0,
      "outputs": []
    },
    {
      "cell_type": "code",
      "metadata": {
        "id": "6_9ZZUp7reAl",
        "colab_type": "code",
        "colab": {}
      },
      "source": [
        "# save model to file\n",
        "\n",
        "pickle.dump(my_model, open(fullpath, \"wb\"))\n",
        " \n",
        "## some time later...\n",
        "# \n",
        "## load model from file\n",
        "#loaded_model = pickle.load(open(\"/content/drive/My Drive/csvs/Test1.pickle.dat\", \"rb\"))\n",
        "## make predictions for test data\n",
        "#y_pred = loaded_model.predict(X_test)"
      ],
      "execution_count": 0,
      "outputs": []
    },
    {
      "cell_type": "code",
      "metadata": {
        "id": "vlHMGPfkrd7m",
        "colab_type": "code",
        "colab": {}
      },
      "source": [
        "# load model from file\n",
        "#loaded_model = pickle.load(open(\"/content/drive/My Drive/csvs/final_to_submit.pickle.dat\", \"rb\"))\n",
        "# make predictions for test data\n",
        "#y_pred = loaded_model.predict(test_X)"
      ],
      "execution_count": 0,
      "outputs": []
    },
    {
      "cell_type": "code",
      "metadata": {
        "id": "3g2ZQygxrd5W",
        "colab_type": "code",
        "colab": {}
      },
      "source": [
        "print(\"Mean Absolute Error : \" + str(mean_absolute_error(y_pred, test_y)))\n",
        "print(\"Mean Squared Error : \" + str(sqrt(mean_squared_error(y_pred, test_y))))\n"
      ],
      "execution_count": 0,
      "outputs": []
    },
    {
      "cell_type": "code",
      "metadata": {
        "id": "Uhy1wzV7ypsT",
        "colab_type": "code",
        "colab": {}
      },
      "source": [
        ""
      ],
      "execution_count": 0,
      "outputs": []
    },
    {
      "cell_type": "code",
      "metadata": {
        "id": "sA-YYLiiyppk",
        "colab_type": "code",
        "colab": {}
      },
      "source": [
        ""
      ],
      "execution_count": 0,
      "outputs": []
    },
    {
      "cell_type": "code",
      "metadata": {
        "id": "j7TW5VeMrd3A",
        "colab_type": "code",
        "colab": {}
      },
      "source": [
        ""
      ],
      "execution_count": 0,
      "outputs": []
    },
    {
      "cell_type": "markdown",
      "metadata": {
        "id": "foCJjAcDq6hu",
        "colab_type": "text"
      },
      "source": [
        "#Test CSV"
      ]
    },
    {
      "cell_type": "code",
      "metadata": {
        "id": "sJIrXZtVq51T",
        "colab_type": "code",
        "colab": {}
      },
      "source": [
        "df_test = pd.read_csv(drug_test_path)"
      ],
      "execution_count": 0,
      "outputs": []
    },
    {
      "cell_type": "code",
      "metadata": {
        "id": "4Wb7cddjtNuT",
        "colab_type": "code",
        "colab": {}
      },
      "source": [
        "df_test.columns"
      ],
      "execution_count": 0,
      "outputs": []
    },
    {
      "cell_type": "code",
      "metadata": {
        "id": "bVIGebCmq5yi",
        "colab_type": "code",
        "colab": {}
      },
      "source": [
        "df_test = df_test.set_index('Patient_ID')"
      ],
      "execution_count": 0,
      "outputs": []
    },
    {
      "cell_type": "code",
      "metadata": {
        "id": "F1_fGFRwq5sE",
        "colab_type": "code",
        "colab": {}
      },
      "source": [
        "#df_test.drop(unnecessary_columns, axis=1, inplace=True)\n",
        "#df_test.drop(columns_to_drop, axis=1, inplace=True)"
      ],
      "execution_count": 0,
      "outputs": []
    },
    {
      "cell_type": "code",
      "metadata": {
        "id": "Y5L6MKNjF3a1",
        "colab_type": "code",
        "colab": {}
      },
      "source": [
        "columns_selected"
      ],
      "execution_count": 0,
      "outputs": []
    },
    {
      "cell_type": "code",
      "metadata": {
        "id": "oAJ5wa0kFq-y",
        "colab_type": "code",
        "colab": {}
      },
      "source": [
        "df_test_to_submit = df_test[['YEAR', 'Subtopic', 'Sample_Size', 'Sex', 'Grade', 'Race',]]"
      ],
      "execution_count": 0,
      "outputs": []
    },
    {
      "cell_type": "code",
      "metadata": {
        "id": "MkJQKb5Wupyh",
        "colab_type": "code",
        "colab": {}
      },
      "source": [
        "df_test_to_submit.head(5)"
      ],
      "execution_count": 0,
      "outputs": []
    },
    {
      "cell_type": "code",
      "metadata": {
        "id": "LLdAmm7autXx",
        "colab_type": "code",
        "colab": {}
      },
      "source": [
        "for col in ['Subtopic']:\n",
        "    df_test_to_submit[col] = df_test_to_submit[col].astype(np.object)"
      ],
      "execution_count": 0,
      "outputs": []
    },
    {
      "cell_type": "code",
      "metadata": {
        "id": "1kuUUqV7uuzY",
        "colab_type": "code",
        "colab": {}
      },
      "source": [
        "df_test_to_submit.head(5)"
      ],
      "execution_count": 0,
      "outputs": []
    },
    {
      "cell_type": "code",
      "metadata": {
        "id": "s9oJPdfiu-H8",
        "colab_type": "code",
        "colab": {}
      },
      "source": [
        "df_test_to_submit = pd.get_dummies(df_test_to_submit)\n"
      ],
      "execution_count": 0,
      "outputs": []
    },
    {
      "cell_type": "code",
      "metadata": {
        "id": "6pDCEAgwGIqQ",
        "colab_type": "code",
        "colab": {}
      },
      "source": [
        "df_test_to_submit.head(10)"
      ],
      "execution_count": 0,
      "outputs": []
    },
    {
      "cell_type": "code",
      "metadata": {
        "id": "aCziO2Nqq5mk",
        "colab_type": "code",
        "colab": {}
      },
      "source": [
        "predictedvalues_tosave = my_model.predict(df_test_to_submit.values)"
      ],
      "execution_count": 0,
      "outputs": []
    },
    {
      "cell_type": "code",
      "metadata": {
        "id": "daXiYJP8BEQ6",
        "colab_type": "code",
        "colab": {}
      },
      "source": [
        "predictedvalues_tosave.shape"
      ],
      "execution_count": 0,
      "outputs": []
    },
    {
      "cell_type": "code",
      "metadata": {
        "id": "29ZrTywBHh5y",
        "colab_type": "code",
        "colab": {}
      },
      "source": [
        "df_test_to_submit.shape"
      ],
      "execution_count": 0,
      "outputs": []
    },
    {
      "cell_type": "code",
      "metadata": {
        "id": "6fTNNyg9Hlwx",
        "colab_type": "code",
        "colab": {}
      },
      "source": [
        "new_df_to_submit = df_test_to_submit.copy()"
      ],
      "execution_count": 0,
      "outputs": []
    },
    {
      "cell_type": "code",
      "metadata": {
        "id": "d7VsVVnp19gr",
        "colab_type": "code",
        "colab": {}
      },
      "source": [
        "type(new_df_to_submit)"
      ],
      "execution_count": 0,
      "outputs": []
    },
    {
      "cell_type": "code",
      "metadata": {
        "id": "wW5kPASA0SFP",
        "colab_type": "code",
        "colab": {}
      },
      "source": [
        "predictedvalues_tosave.shape"
      ],
      "execution_count": 0,
      "outputs": []
    },
    {
      "cell_type": "code",
      "metadata": {
        "id": "vnbsdI8FHlt1",
        "colab_type": "code",
        "colab": {}
      },
      "source": [
        "new_df_to_submit['predicted'] = predictedvalues_tosave"
      ],
      "execution_count": 0,
      "outputs": []
    },
    {
      "cell_type": "code",
      "metadata": {
        "id": "MAT1YYZE2I4N",
        "colab_type": "code",
        "colab": {}
      },
      "source": [
        "new_df_to_submit.head(5)"
      ],
      "execution_count": 0,
      "outputs": []
    },
    {
      "cell_type": "code",
      "metadata": {
        "id": "jhPRIF4a2PXd",
        "colab_type": "code",
        "colab": {}
      },
      "source": [
        ""
      ],
      "execution_count": 0,
      "outputs": []
    },
    {
      "cell_type": "code",
      "metadata": {
        "id": "HLMmoLRlG3bg",
        "colab_type": "code",
        "colab": {}
      },
      "source": [
        "final_competion_submit = pd.DataFrame(data=new_df_to_submit['predicted'])"
      ],
      "execution_count": 0,
      "outputs": []
    },
    {
      "cell_type": "code",
      "metadata": {
        "id": "3Ovjy1HT62Dm",
        "colab_type": "code",
        "colab": {}
      },
      "source": [
        "final_competion_submit.rename(columns={'predicted':'Greater_Risk_Probability'}, inplace=True)"
      ],
      "execution_count": 0,
      "outputs": []
    },
    {
      "cell_type": "code",
      "metadata": {
        "id": "pnn_0CIEHA7J",
        "colab_type": "code",
        "colab": {}
      },
      "source": [
        "final_competion_submit.head(5)"
      ],
      "execution_count": 0,
      "outputs": []
    },
    {
      "cell_type": "code",
      "metadata": {
        "id": "DbuTGDMGq5aY",
        "colab_type": "code",
        "colab": {}
      },
      "source": [
        "final_competion_submit.to_csv('/content/drive/My Drive/csvs/ashiqsubmission02.csv')"
      ],
      "execution_count": 0,
      "outputs": []
    },
    {
      "cell_type": "code",
      "metadata": {
        "id": "eVVHijSQPbzV",
        "colab_type": "code",
        "colab": {}
      },
      "source": [
        ""
      ],
      "execution_count": 0,
      "outputs": []
    },
    {
      "cell_type": "code",
      "metadata": {
        "id": "F9TZN9bt6s03",
        "colab_type": "code",
        "colab": {}
      },
      "source": [
        ""
      ],
      "execution_count": 0,
      "outputs": []
    },
    {
      "cell_type": "code",
      "metadata": {
        "id": "GJO2qJ306syh",
        "colab_type": "code",
        "colab": {}
      },
      "source": [
        ""
      ],
      "execution_count": 0,
      "outputs": []
    },
    {
      "cell_type": "code",
      "metadata": {
        "id": "Iu_o2Lsb6svz",
        "colab_type": "code",
        "colab": {}
      },
      "source": [
        ""
      ],
      "execution_count": 0,
      "outputs": []
    },
    {
      "cell_type": "code",
      "metadata": {
        "id": "e23AywM86ss6",
        "colab_type": "code",
        "colab": {}
      },
      "source": [
        ""
      ],
      "execution_count": 0,
      "outputs": []
    },
    {
      "cell_type": "markdown",
      "metadata": {
        "id": "jlm9H2ZRRc6T",
        "colab_type": "text"
      },
      "source": [
        "#Keras Deep Learning Model"
      ]
    },
    {
      "cell_type": "code",
      "metadata": {
        "id": "hD47gq7GThjX",
        "colab_type": "code",
        "colab": {}
      },
      "source": [
        "#X_normalised = (X_main - X_main.mean()) / X_main.std()\n",
        "#X_normalised.head()\n",
        "#\n",
        "#test_X_normalised =  (test_X - test_X.mean()) / test_X.std()"
      ],
      "execution_count": 0,
      "outputs": []
    },
    {
      "cell_type": "code",
      "metadata": {
        "id": "U5Fp3S32RfWI",
        "colab_type": "code",
        "outputId": "97b5743a-4350-46d5-b8c2-98f60fa803d9",
        "colab": {
          "base_uri": "https://localhost:8080/",
          "height": 34
        }
      },
      "source": [
        "import keras"
      ],
      "execution_count": 0,
      "outputs": [
        {
          "output_type": "stream",
          "text": [
            "Using TensorFlow backend.\n"
          ],
          "name": "stderr"
        }
      ]
    },
    {
      "cell_type": "code",
      "metadata": {
        "id": "Z5sYBSN5Rme8",
        "colab_type": "code",
        "colab": {}
      },
      "source": [
        "from keras.models import Sequential\n",
        "from keras.layers import Dense\n",
        "from keras.layers import LSTM\n",
        "from keras.layers import Dropout"
      ],
      "execution_count": 0,
      "outputs": []
    },
    {
      "cell_type": "markdown",
      "metadata": {
        "id": "RLU0aywaTB0u",
        "colab_type": "text"
      },
      "source": [
        "##develop a neural network"
      ]
    },
    {
      "cell_type": "code",
      "metadata": {
        "id": "Ht_Vl324YPQK",
        "colab_type": "code",
        "colab": {}
      },
      "source": [
        "n_cols = X_main.values.shape[1]"
      ],
      "execution_count": 0,
      "outputs": []
    },
    {
      "cell_type": "code",
      "metadata": {
        "id": "nivBlXBvYWeM",
        "colab_type": "code",
        "outputId": "d7d72726-3107-435a-9dc8-60722897003e",
        "colab": {
          "base_uri": "https://localhost:8080/",
          "height": 34
        }
      },
      "source": [
        "X_main.values.shape[1]"
      ],
      "execution_count": 0,
      "outputs": [
        {
          "output_type": "execute_result",
          "data": {
            "text/plain": [
              "16"
            ]
          },
          "metadata": {
            "tags": []
          },
          "execution_count": 40
        }
      ]
    },
    {
      "cell_type": "code",
      "metadata": {
        "id": "_ev73O8uS5bc",
        "colab_type": "code",
        "colab": {}
      },
      "source": [
        "# define regression model\n",
        "def regression_model():\n",
        "    # create model\n",
        "    dl_model = Sequential()\n",
        "    dl_model.add(Dense(50, activation='relu', input_shape=(n_cols,)))\n",
        "    #dl_model.add(Dense(50, activation='relu'))\n",
        "    dl_model.add(Dense(25, activation='relu'))\n",
        "    dl_model.add(Dense(10, activation='relu'))\n",
        "    dl_model.add(Dense(5, activation='relu'))\n",
        "    dl_model.add(Dense(1))\n",
        "    \n",
        "    # compile model\n",
        "    dl_model.compile(optimizer='adam', loss='mean_absolute_error')\n",
        "    return dl_model"
      ],
      "execution_count": 0,
      "outputs": []
    },
    {
      "cell_type": "code",
      "metadata": {
        "id": "-8PK4p7fTZs9",
        "colab_type": "code",
        "colab": {}
      },
      "source": [
        "dl_model = regression_model()\n",
        "dl_model.fit(X_main.values, y_main.values, validation_split=0.2, epochs=100, verbose=2)"
      ],
      "execution_count": 0,
      "outputs": []
    },
    {
      "cell_type": "code",
      "metadata": {
        "id": "4JBrtmN_YCpe",
        "colab_type": "code",
        "colab": {}
      },
      "source": [
        "dl_predictions = dl_model.predict(test_X)"
      ],
      "execution_count": 0,
      "outputs": []
    },
    {
      "cell_type": "code",
      "metadata": {
        "id": "OaVYPfkEefqB",
        "colab_type": "code",
        "colab": {}
      },
      "source": [
        "\n",
        "print(\"Mean Absolute Error : \" + str(mean_absolute_error(dl_predictions, test_y)))\n",
        "print(\"Mean Squared Error : \" + str(sqrt(mean_squared_error(dl_predictions, test_y))))\n"
      ],
      "execution_count": 0,
      "outputs": []
    },
    {
      "cell_type": "code",
      "metadata": {
        "id": "6oc8BH3lPMqF",
        "colab_type": "code",
        "colab": {}
      },
      "source": [
        ""
      ],
      "execution_count": 0,
      "outputs": []
    },
    {
      "cell_type": "code",
      "metadata": {
        "id": "9Ym2kxgEe34C",
        "colab_type": "code",
        "colab": {}
      },
      "source": [
        "print(\"test_y:\",test_y[:15], \"\\nPredicitions\",dl_predictions[:15])"
      ],
      "execution_count": 0,
      "outputs": []
    },
    {
      "cell_type": "markdown",
      "metadata": {
        "id": "vkGXreBIafN5",
        "colab_type": "text"
      },
      "source": [
        "#LSTM Model\n"
      ]
    },
    {
      "cell_type": "code",
      "metadata": {
        "id": "uVrAZhqkdCjs",
        "colab_type": "code",
        "colab": {}
      },
      "source": [
        "X_train = np.reshape(train_X, (train_X.shape[0], 1, train_X.shape[1]))\n",
        "X_test = np.reshape(test_X, (test_X.shape[0], 1, test_X.shape[1]))"
      ],
      "execution_count": 0,
      "outputs": []
    },
    {
      "cell_type": "code",
      "metadata": {
        "id": "XXW53885HOwc",
        "colab_type": "code",
        "colab": {}
      },
      "source": [
        "regressor = Sequential()\n",
        "\n",
        "#regressor.add(LSTM(units = 50, return_sequences = True, input_shape = (train_X.shape[1], 1)))\n",
        "regressor.add(LSTM(100, input_shape=X_train.shape[1], return_sequences=True, implementation=2))\n",
        "regressor.add(Dropout(0.2))\n",
        "\n",
        "regressor.add(LSTM(units = 50, return_sequences = True))\n",
        "regressor.add(Dropout(0.2))\n",
        "\n",
        "regressor.add(LSTM(units = 50, return_sequences = True))\n",
        "regressor.add(Dropout(0.2))\n",
        "\n",
        "regressor.add(LSTM(units = 50, return_sequences = True))\n",
        "regressor.add(Dropout(0.2))\n",
        "\n",
        "regressor.add(LSTM(units = 50, return_sequences = True))\n",
        "regressor.add(Dropout(0.2))\n",
        "\n",
        "regressor.add(LSTM(units = 50))\n",
        "regressor.add(Dropout(0.2))\n",
        "\n",
        "\n",
        "regressor.add(Dense(units = 1))\n",
        "\n"
      ],
      "execution_count": 0,
      "outputs": []
    },
    {
      "cell_type": "code",
      "metadata": {
        "id": "cEMu464vae56",
        "colab_type": "code",
        "colab": {}
      },
      "source": [
        "regressor.compile(optimizer = 'adam', loss = 'mean_absolute_error')\n",
        "\n",
        "regressor.fit(train_X, train_y, epochs = 10, batch_size = 32)"
      ],
      "execution_count": 0,
      "outputs": []
    },
    {
      "cell_type": "code",
      "metadata": {
        "id": "JXoFHj_Gae3M",
        "colab_type": "code",
        "colab": {}
      },
      "source": [
        ""
      ],
      "execution_count": 0,
      "outputs": []
    },
    {
      "cell_type": "code",
      "metadata": {
        "id": "MJqTYSiIaeyF",
        "colab_type": "code",
        "colab": {}
      },
      "source": [
        ""
      ],
      "execution_count": 0,
      "outputs": []
    },
    {
      "cell_type": "code",
      "metadata": {
        "id": "Lva6G4_Qaevh",
        "colab_type": "code",
        "colab": {}
      },
      "source": [
        ""
      ],
      "execution_count": 0,
      "outputs": []
    },
    {
      "cell_type": "code",
      "metadata": {
        "id": "4RUVxOXWaes8",
        "colab_type": "code",
        "colab": {}
      },
      "source": [
        ""
      ],
      "execution_count": 0,
      "outputs": []
    }
  ]
}