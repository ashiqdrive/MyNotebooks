{
  "nbformat": 4,
  "nbformat_minor": 0,
  "metadata": {
    "colab": {
      "name": "HackerEarth_Incedo_Competition_01.ipynb",
      "version": "0.3.2",
      "provenance": [],
      "collapsed_sections": [],
      "include_colab_link": true
    },
    "kernelspec": {
      "name": "python3",
      "display_name": "Python 3"
    },
    "accelerator": "GPU"
  },
  "cells": [
    {
      "cell_type": "markdown",
      "metadata": {
        "id": "view-in-github",
        "colab_type": "text"
      },
      "source": [
        "<a href=\"https://colab.research.google.com/github/ashiqdrive/MyNotebooks/blob/master/HackerEarth_Incedo_Competition_01.ipynb\" target=\"_parent\"><img src=\"https://colab.research.google.com/assets/colab-badge.svg\" alt=\"Open In Colab\"/></a>"
      ]
    },
    {
      "cell_type": "code",
      "metadata": {
        "id": "RYChbUelVEOH",
        "colab_type": "code",
        "colab": {}
      },
      "source": [
        "#Boiler plate code to import libraries\n",
        "import numpy as np\n",
        "import pandas as pd\n",
        "import matplotlib.pyplot as plt\n",
        "%matplotlib inline\n",
        "import seaborn as sns"
      ],
      "execution_count": 0,
      "outputs": []
    },
    {
      "cell_type": "code",
      "metadata": {
        "id": "u84FEbtux9aX",
        "colab_type": "code",
        "outputId": "d2b161b2-e1f9-4623-b523-94d5cff3b6ef",
        "colab": {
          "base_uri": "https://localhost:8080/",
          "height": 34
        }
      },
      "source": [
        "from google.colab import drive\n",
        "drive.mount('/content/drive')"
      ],
      "execution_count": 3,
      "outputs": [
        {
          "output_type": "stream",
          "text": [
            "Drive already mounted at /content/drive; to attempt to forcibly remount, call drive.mount(\"/content/drive\", force_remount=True).\n"
          ],
          "name": "stdout"
        }
      ]
    },
    {
      "cell_type": "code",
      "metadata": {
        "id": "P1u5sEPxzT37",
        "colab_type": "code",
        "colab": {}
      },
      "source": [
        "drug_train_path = '/content/drive/My Drive/csvs/drug_train_file.csv'\n",
        "drug_test_path = '/content/drive/My Drive/csvs/drug_test_file.csv'"
      ],
      "execution_count": 0,
      "outputs": []
    },
    {
      "cell_type": "code",
      "metadata": {
        "id": "zRoacZvGWmh0",
        "colab_type": "code",
        "colab": {}
      },
      "source": [
        "df = pd.read_csv(drug_train_path)"
      ],
      "execution_count": 0,
      "outputs": []
    },
    {
      "cell_type": "code",
      "metadata": {
        "id": "y_0TTHNQe5PC",
        "colab_type": "code",
        "outputId": "2013ae0c-620a-4751-bf9b-5a67c6f33120",
        "colab": {
          "base_uri": "https://localhost:8080/",
          "height": 838
        }
      },
      "source": [
        "df.head(10)"
      ],
      "execution_count": 6,
      "outputs": [
        {
          "output_type": "execute_result",
          "data": {
            "text/html": [
              "<div>\n",
              "<style scoped>\n",
              "    .dataframe tbody tr th:only-of-type {\n",
              "        vertical-align: middle;\n",
              "    }\n",
              "\n",
              "    .dataframe tbody tr th {\n",
              "        vertical-align: top;\n",
              "    }\n",
              "\n",
              "    .dataframe thead th {\n",
              "        text-align: right;\n",
              "    }\n",
              "</style>\n",
              "<table border=\"1\" class=\"dataframe\">\n",
              "  <thead>\n",
              "    <tr style=\"text-align: right;\">\n",
              "      <th></th>\n",
              "      <th>Patient_ID</th>\n",
              "      <th>YEAR</th>\n",
              "      <th>LocationDesc</th>\n",
              "      <th>Subtopic</th>\n",
              "      <th>Greater_Risk_Question</th>\n",
              "      <th>Description</th>\n",
              "      <th>Sample_Size</th>\n",
              "      <th>Sex</th>\n",
              "      <th>Race</th>\n",
              "      <th>Grade</th>\n",
              "      <th>GeoLocation</th>\n",
              "      <th>QuestionCode</th>\n",
              "      <th>StratID1</th>\n",
              "      <th>StratID2</th>\n",
              "      <th>StratID3</th>\n",
              "      <th>StratificationType</th>\n",
              "      <th>Greater_Risk_Probability</th>\n",
              "    </tr>\n",
              "  </thead>\n",
              "  <tbody>\n",
              "    <tr>\n",
              "      <th>0</th>\n",
              "      <td>1</td>\n",
              "      <td>1995</td>\n",
              "      <td>Houston, TX</td>\n",
              "      <td>1</td>\n",
              "      <td>Ever used cocaine</td>\n",
              "      <td>any form of cocaine, such as powder, crack, or...</td>\n",
              "      <td>335.0</td>\n",
              "      <td>Female</td>\n",
              "      <td>Hispanic or Latino</td>\n",
              "      <td>4</td>\n",
              "      <td>(29.760427, -95.369803)</td>\n",
              "      <td>H49</td>\n",
              "      <td>1</td>\n",
              "      <td>4</td>\n",
              "      <td>0</td>\n",
              "      <td>Local</td>\n",
              "      <td>7.4793</td>\n",
              "    </tr>\n",
              "    <tr>\n",
              "      <th>1</th>\n",
              "      <td>2</td>\n",
              "      <td>1997</td>\n",
              "      <td>Houston, TX</td>\n",
              "      <td>0</td>\n",
              "      <td>Currently drank alcohol</td>\n",
              "      <td>at least one drink of alcohol, on at least 1 d...</td>\n",
              "      <td>382.0</td>\n",
              "      <td>Total</td>\n",
              "      <td>Black or African American</td>\n",
              "      <td>4</td>\n",
              "      <td>(29.760427, -95.369803)</td>\n",
              "      <td>H42</td>\n",
              "      <td>0</td>\n",
              "      <td>3</td>\n",
              "      <td>0</td>\n",
              "      <td>Local</td>\n",
              "      <td>49.6852</td>\n",
              "    </tr>\n",
              "    <tr>\n",
              "      <th>2</th>\n",
              "      <td>3</td>\n",
              "      <td>1993</td>\n",
              "      <td>Nevada</td>\n",
              "      <td>0</td>\n",
              "      <td>Had their first drink of alcohol before age 13...</td>\n",
              "      <td>other than a few sips</td>\n",
              "      <td>196.0</td>\n",
              "      <td>Female</td>\n",
              "      <td>White</td>\n",
              "      <td>0</td>\n",
              "      <td>(39.493240390000494, -117.07184056399967)</td>\n",
              "      <td>H41</td>\n",
              "      <td>1</td>\n",
              "      <td>6</td>\n",
              "      <td>2</td>\n",
              "      <td>State</td>\n",
              "      <td>47.8132</td>\n",
              "    </tr>\n",
              "    <tr>\n",
              "      <th>3</th>\n",
              "      <td>4</td>\n",
              "      <td>2017</td>\n",
              "      <td>Pennsylvania</td>\n",
              "      <td>1</td>\n",
              "      <td>Ever used cocaine</td>\n",
              "      <td>any form of cocaine, such as powder, crack, or...</td>\n",
              "      <td>104.0</td>\n",
              "      <td>Male</td>\n",
              "      <td>Asian</td>\n",
              "      <td>4</td>\n",
              "      <td>(40.79373015200048, -77.86070029399963)</td>\n",
              "      <td>H49</td>\n",
              "      <td>2</td>\n",
              "      <td>2</td>\n",
              "      <td>0</td>\n",
              "      <td>State</td>\n",
              "      <td>3.4554</td>\n",
              "    </tr>\n",
              "    <tr>\n",
              "      <th>4</th>\n",
              "      <td>5</td>\n",
              "      <td>2007</td>\n",
              "      <td>San Francisco, CA</td>\n",
              "      <td>1</td>\n",
              "      <td>Ever took steroids without a doctor's prescrip...</td>\n",
              "      <td>pills or shots, one or more times during their...</td>\n",
              "      <td>100.0</td>\n",
              "      <td>Female</td>\n",
              "      <td>Multiple Race</td>\n",
              "      <td>4</td>\n",
              "      <td>(37.77493, -122.419416)</td>\n",
              "      <td>H55</td>\n",
              "      <td>1</td>\n",
              "      <td>7</td>\n",
              "      <td>0</td>\n",
              "      <td>Local</td>\n",
              "      <td>0.0000</td>\n",
              "    </tr>\n",
              "    <tr>\n",
              "      <th>5</th>\n",
              "      <td>6</td>\n",
              "      <td>2015</td>\n",
              "      <td>Philadelphia, PA</td>\n",
              "      <td>1</td>\n",
              "      <td>Ever used inhalants</td>\n",
              "      <td>sniffed glue, breathed the contents of aerosol...</td>\n",
              "      <td>108.0</td>\n",
              "      <td>Male</td>\n",
              "      <td>Black or African American</td>\n",
              "      <td>3</td>\n",
              "      <td>(39.952584, -75.165222)</td>\n",
              "      <td>H50</td>\n",
              "      <td>2</td>\n",
              "      <td>3</td>\n",
              "      <td>1</td>\n",
              "      <td>Local</td>\n",
              "      <td>23.4575</td>\n",
              "    </tr>\n",
              "    <tr>\n",
              "      <th>6</th>\n",
              "      <td>7</td>\n",
              "      <td>2009</td>\n",
              "      <td>San Diego, CA</td>\n",
              "      <td>0</td>\n",
              "      <td>Currently drank alcohol</td>\n",
              "      <td>at least one drink of alcohol, on at least 1 d...</td>\n",
              "      <td>230.0</td>\n",
              "      <td>Female</td>\n",
              "      <td>Total</td>\n",
              "      <td>1</td>\n",
              "      <td>(32.715738, -117.161084)</td>\n",
              "      <td>H42</td>\n",
              "      <td>1</td>\n",
              "      <td>0</td>\n",
              "      <td>3</td>\n",
              "      <td>Local</td>\n",
              "      <td>45.7599</td>\n",
              "    </tr>\n",
              "    <tr>\n",
              "      <th>7</th>\n",
              "      <td>8</td>\n",
              "      <td>2007</td>\n",
              "      <td>Utah</td>\n",
              "      <td>0</td>\n",
              "      <td>Currently drank alcohol</td>\n",
              "      <td>at least one drink of alcohol, on at least 1 d...</td>\n",
              "      <td>180.0</td>\n",
              "      <td>Male</td>\n",
              "      <td>Total</td>\n",
              "      <td>1</td>\n",
              "      <td>(39.360700171000474, -111.58713063499971)</td>\n",
              "      <td>H42</td>\n",
              "      <td>2</td>\n",
              "      <td>0</td>\n",
              "      <td>3</td>\n",
              "      <td>State</td>\n",
              "      <td>23.3038</td>\n",
              "    </tr>\n",
              "    <tr>\n",
              "      <th>8</th>\n",
              "      <td>9</td>\n",
              "      <td>2017</td>\n",
              "      <td>West Virginia</td>\n",
              "      <td>1</td>\n",
              "      <td>Were offered, sold, or given an illegal drug o...</td>\n",
              "      <td>during the 12 months before the survey</td>\n",
              "      <td>427.0</td>\n",
              "      <td>Total</td>\n",
              "      <td>Total</td>\n",
              "      <td>1</td>\n",
              "      <td>(38.66551020200046, -80.71264013499967)</td>\n",
              "      <td>H58</td>\n",
              "      <td>0</td>\n",
              "      <td>0</td>\n",
              "      <td>3</td>\n",
              "      <td>State</td>\n",
              "      <td>30.7151</td>\n",
              "    </tr>\n",
              "    <tr>\n",
              "      <th>9</th>\n",
              "      <td>10</td>\n",
              "      <td>1999</td>\n",
              "      <td>Hawaii</td>\n",
              "      <td>1</td>\n",
              "      <td>Ever used inhalants</td>\n",
              "      <td>sniffed glue, breathed the contents of aerosol...</td>\n",
              "      <td>314.0</td>\n",
              "      <td>Total</td>\n",
              "      <td>Total</td>\n",
              "      <td>1</td>\n",
              "      <td>(21.304850435000446, -157.85774940299973)</td>\n",
              "      <td>H50</td>\n",
              "      <td>0</td>\n",
              "      <td>0</td>\n",
              "      <td>3</td>\n",
              "      <td>State</td>\n",
              "      <td>18.3384</td>\n",
              "    </tr>\n",
              "  </tbody>\n",
              "</table>\n",
              "</div>"
            ],
            "text/plain": [
              "   Patient_ID  YEAR       LocationDesc  Subtopic  \\\n",
              "0           1  1995        Houston, TX         1   \n",
              "1           2  1997        Houston, TX         0   \n",
              "2           3  1993             Nevada         0   \n",
              "3           4  2017       Pennsylvania         1   \n",
              "4           5  2007  San Francisco, CA         1   \n",
              "5           6  2015   Philadelphia, PA         1   \n",
              "6           7  2009      San Diego, CA         0   \n",
              "7           8  2007               Utah         0   \n",
              "8           9  2017      West Virginia         1   \n",
              "9          10  1999             Hawaii         1   \n",
              "\n",
              "                               Greater_Risk_Question  \\\n",
              "0                                  Ever used cocaine   \n",
              "1                            Currently drank alcohol   \n",
              "2  Had their first drink of alcohol before age 13...   \n",
              "3                                  Ever used cocaine   \n",
              "4  Ever took steroids without a doctor's prescrip...   \n",
              "5                                Ever used inhalants   \n",
              "6                            Currently drank alcohol   \n",
              "7                            Currently drank alcohol   \n",
              "8  Were offered, sold, or given an illegal drug o...   \n",
              "9                                Ever used inhalants   \n",
              "\n",
              "                                         Description  Sample_Size     Sex  \\\n",
              "0  any form of cocaine, such as powder, crack, or...        335.0  Female   \n",
              "1  at least one drink of alcohol, on at least 1 d...        382.0   Total   \n",
              "2                              other than a few sips        196.0  Female   \n",
              "3  any form of cocaine, such as powder, crack, or...        104.0    Male   \n",
              "4  pills or shots, one or more times during their...        100.0  Female   \n",
              "5  sniffed glue, breathed the contents of aerosol...        108.0    Male   \n",
              "6  at least one drink of alcohol, on at least 1 d...        230.0  Female   \n",
              "7  at least one drink of alcohol, on at least 1 d...        180.0    Male   \n",
              "8             during the 12 months before the survey        427.0   Total   \n",
              "9  sniffed glue, breathed the contents of aerosol...        314.0   Total   \n",
              "\n",
              "                        Race  Grade  \\\n",
              "0         Hispanic or Latino      4   \n",
              "1  Black or African American      4   \n",
              "2                      White      0   \n",
              "3                      Asian      4   \n",
              "4              Multiple Race      4   \n",
              "5  Black or African American      3   \n",
              "6                      Total      1   \n",
              "7                      Total      1   \n",
              "8                      Total      1   \n",
              "9                      Total      1   \n",
              "\n",
              "                                 GeoLocation QuestionCode  StratID1  StratID2  \\\n",
              "0                    (29.760427, -95.369803)          H49         1         4   \n",
              "1                    (29.760427, -95.369803)          H42         0         3   \n",
              "2  (39.493240390000494, -117.07184056399967)          H41         1         6   \n",
              "3    (40.79373015200048, -77.86070029399963)          H49         2         2   \n",
              "4                    (37.77493, -122.419416)          H55         1         7   \n",
              "5                    (39.952584, -75.165222)          H50         2         3   \n",
              "6                   (32.715738, -117.161084)          H42         1         0   \n",
              "7  (39.360700171000474, -111.58713063499971)          H42         2         0   \n",
              "8    (38.66551020200046, -80.71264013499967)          H58         0         0   \n",
              "9  (21.304850435000446, -157.85774940299973)          H50         0         0   \n",
              "\n",
              "   StratID3 StratificationType  Greater_Risk_Probability  \n",
              "0         0              Local                    7.4793  \n",
              "1         0              Local                   49.6852  \n",
              "2         2              State                   47.8132  \n",
              "3         0              State                    3.4554  \n",
              "4         0              Local                    0.0000  \n",
              "5         1              Local                   23.4575  \n",
              "6         3              Local                   45.7599  \n",
              "7         3              State                   23.3038  \n",
              "8         3              State                   30.7151  \n",
              "9         3              State                   18.3384  "
            ]
          },
          "metadata": {
            "tags": []
          },
          "execution_count": 6
        }
      ]
    },
    {
      "cell_type": "markdown",
      "metadata": {
        "id": "2q4sQ150xJbx",
        "colab_type": "text"
      },
      "source": [
        "#Column Names"
      ]
    },
    {
      "cell_type": "code",
      "metadata": {
        "id": "eqPfRb-pe78f",
        "colab_type": "code",
        "outputId": "356ba6bd-ea3c-4c77-9af2-5dad500faf50",
        "colab": {
          "base_uri": "https://localhost:8080/",
          "height": 102
        }
      },
      "source": [
        "df.columns"
      ],
      "execution_count": 7,
      "outputs": [
        {
          "output_type": "execute_result",
          "data": {
            "text/plain": [
              "Index(['Patient_ID', 'YEAR', 'LocationDesc', 'Subtopic',\n",
              "       'Greater_Risk_Question', 'Description', 'Sample_Size', 'Sex', 'Race',\n",
              "       'Grade', 'GeoLocation', 'QuestionCode', 'StratID1', 'StratID2',\n",
              "       'StratID3', 'StratificationType', 'Greater_Risk_Probability'],\n",
              "      dtype='object')"
            ]
          },
          "metadata": {
            "tags": []
          },
          "execution_count": 7
        }
      ]
    },
    {
      "cell_type": "markdown",
      "metadata": {
        "id": "mZSEManfxOMV",
        "colab_type": "text"
      },
      "source": [
        "#Data Types of Columns"
      ]
    },
    {
      "cell_type": "code",
      "metadata": {
        "id": "npM1XcHNqCs1",
        "colab_type": "code",
        "outputId": "8449f7d0-5cc0-4353-adf0-5dce0e1278e7",
        "colab": {
          "base_uri": "https://localhost:8080/",
          "height": 323
        }
      },
      "source": [
        "df.dtypes"
      ],
      "execution_count": 8,
      "outputs": [
        {
          "output_type": "execute_result",
          "data": {
            "text/plain": [
              "Patient_ID                    int64\n",
              "YEAR                          int64\n",
              "LocationDesc                 object\n",
              "Subtopic                      int64\n",
              "Greater_Risk_Question        object\n",
              "Description                  object\n",
              "Sample_Size                 float64\n",
              "Sex                          object\n",
              "Race                         object\n",
              "Grade                         int64\n",
              "GeoLocation                  object\n",
              "QuestionCode                 object\n",
              "StratID1                      int64\n",
              "StratID2                      int64\n",
              "StratID3                      int64\n",
              "StratificationType           object\n",
              "Greater_Risk_Probability    float64\n",
              "dtype: object"
            ]
          },
          "metadata": {
            "tags": []
          },
          "execution_count": 8
        }
      ]
    },
    {
      "cell_type": "code",
      "metadata": {
        "id": "EKHkSUETL-Nu",
        "colab_type": "code",
        "outputId": "fdebe7a8-798a-43c9-a36e-3d227ee0a677",
        "colab": {
          "base_uri": "https://localhost:8080/",
          "height": 136
        }
      },
      "source": [
        "df.columns.to_series().groupby(df.dtypes).groups"
      ],
      "execution_count": 9,
      "outputs": [
        {
          "output_type": "execute_result",
          "data": {
            "text/plain": [
              "{dtype('int64'): Index(['Patient_ID', 'YEAR', 'Subtopic', 'Grade', 'StratID1', 'StratID2',\n",
              "        'StratID3'],\n",
              "       dtype='object'),\n",
              " dtype('float64'): Index(['Sample_Size', 'Greater_Risk_Probability'], dtype='object'),\n",
              " dtype('O'): Index(['LocationDesc', 'Greater_Risk_Question', 'Description', 'Sex', 'Race',\n",
              "        'GeoLocation', 'QuestionCode', 'StratificationType'],\n",
              "       dtype='object')}"
            ]
          },
          "metadata": {
            "tags": []
          },
          "execution_count": 9
        }
      ]
    },
    {
      "cell_type": "markdown",
      "metadata": {
        "id": "uPHcEXcZxQ4j",
        "colab_type": "text"
      },
      "source": [
        "#Checking for Null values"
      ]
    },
    {
      "cell_type": "code",
      "metadata": {
        "id": "lTRG31ykQDMs",
        "colab_type": "code",
        "outputId": "3203ec8a-9740-4da2-887d-5bd5f583aa1f",
        "colab": {
          "base_uri": "https://localhost:8080/",
          "height": 323
        }
      },
      "source": [
        "df.isnull().sum(axis = 0)"
      ],
      "execution_count": 10,
      "outputs": [
        {
          "output_type": "execute_result",
          "data": {
            "text/plain": [
              "Patient_ID                     0\n",
              "YEAR                           0\n",
              "LocationDesc                   0\n",
              "Subtopic                       0\n",
              "Greater_Risk_Question          0\n",
              "Description                    0\n",
              "Sample_Size                    0\n",
              "Sex                            0\n",
              "Race                           0\n",
              "Grade                          0\n",
              "GeoLocation                 3301\n",
              "QuestionCode                   0\n",
              "StratID1                       0\n",
              "StratID2                       0\n",
              "StratID3                       0\n",
              "StratificationType             0\n",
              "Greater_Risk_Probability       0\n",
              "dtype: int64"
            ]
          },
          "metadata": {
            "tags": []
          },
          "execution_count": 10
        }
      ]
    },
    {
      "cell_type": "markdown",
      "metadata": {
        "id": "qX8nFtikEyP7",
        "colab_type": "text"
      },
      "source": [
        "#Setting Patient id as index"
      ]
    },
    {
      "cell_type": "code",
      "metadata": {
        "id": "5nF6yVGARrLo",
        "colab_type": "code",
        "colab": {}
      },
      "source": [
        "#setting patient id as index\n",
        "df.set_index('Patient_ID', inplace=True)"
      ],
      "execution_count": 0,
      "outputs": []
    },
    {
      "cell_type": "code",
      "metadata": {
        "id": "n5hRZj_g762Y",
        "colab_type": "code",
        "outputId": "fe922d96-0404-45bb-87ee-e9159acf5813",
        "colab": {
          "base_uri": "https://localhost:8080/",
          "height": 476
        }
      },
      "source": [
        "df.head(5)"
      ],
      "execution_count": 12,
      "outputs": [
        {
          "output_type": "execute_result",
          "data": {
            "text/html": [
              "<div>\n",
              "<style scoped>\n",
              "    .dataframe tbody tr th:only-of-type {\n",
              "        vertical-align: middle;\n",
              "    }\n",
              "\n",
              "    .dataframe tbody tr th {\n",
              "        vertical-align: top;\n",
              "    }\n",
              "\n",
              "    .dataframe thead th {\n",
              "        text-align: right;\n",
              "    }\n",
              "</style>\n",
              "<table border=\"1\" class=\"dataframe\">\n",
              "  <thead>\n",
              "    <tr style=\"text-align: right;\">\n",
              "      <th></th>\n",
              "      <th>YEAR</th>\n",
              "      <th>LocationDesc</th>\n",
              "      <th>Subtopic</th>\n",
              "      <th>Greater_Risk_Question</th>\n",
              "      <th>Description</th>\n",
              "      <th>Sample_Size</th>\n",
              "      <th>Sex</th>\n",
              "      <th>Race</th>\n",
              "      <th>Grade</th>\n",
              "      <th>GeoLocation</th>\n",
              "      <th>QuestionCode</th>\n",
              "      <th>StratID1</th>\n",
              "      <th>StratID2</th>\n",
              "      <th>StratID3</th>\n",
              "      <th>StratificationType</th>\n",
              "      <th>Greater_Risk_Probability</th>\n",
              "    </tr>\n",
              "    <tr>\n",
              "      <th>Patient_ID</th>\n",
              "      <th></th>\n",
              "      <th></th>\n",
              "      <th></th>\n",
              "      <th></th>\n",
              "      <th></th>\n",
              "      <th></th>\n",
              "      <th></th>\n",
              "      <th></th>\n",
              "      <th></th>\n",
              "      <th></th>\n",
              "      <th></th>\n",
              "      <th></th>\n",
              "      <th></th>\n",
              "      <th></th>\n",
              "      <th></th>\n",
              "      <th></th>\n",
              "    </tr>\n",
              "  </thead>\n",
              "  <tbody>\n",
              "    <tr>\n",
              "      <th>1</th>\n",
              "      <td>1995</td>\n",
              "      <td>Houston, TX</td>\n",
              "      <td>1</td>\n",
              "      <td>Ever used cocaine</td>\n",
              "      <td>any form of cocaine, such as powder, crack, or...</td>\n",
              "      <td>335.0</td>\n",
              "      <td>Female</td>\n",
              "      <td>Hispanic or Latino</td>\n",
              "      <td>4</td>\n",
              "      <td>(29.760427, -95.369803)</td>\n",
              "      <td>H49</td>\n",
              "      <td>1</td>\n",
              "      <td>4</td>\n",
              "      <td>0</td>\n",
              "      <td>Local</td>\n",
              "      <td>7.4793</td>\n",
              "    </tr>\n",
              "    <tr>\n",
              "      <th>2</th>\n",
              "      <td>1997</td>\n",
              "      <td>Houston, TX</td>\n",
              "      <td>0</td>\n",
              "      <td>Currently drank alcohol</td>\n",
              "      <td>at least one drink of alcohol, on at least 1 d...</td>\n",
              "      <td>382.0</td>\n",
              "      <td>Total</td>\n",
              "      <td>Black or African American</td>\n",
              "      <td>4</td>\n",
              "      <td>(29.760427, -95.369803)</td>\n",
              "      <td>H42</td>\n",
              "      <td>0</td>\n",
              "      <td>3</td>\n",
              "      <td>0</td>\n",
              "      <td>Local</td>\n",
              "      <td>49.6852</td>\n",
              "    </tr>\n",
              "    <tr>\n",
              "      <th>3</th>\n",
              "      <td>1993</td>\n",
              "      <td>Nevada</td>\n",
              "      <td>0</td>\n",
              "      <td>Had their first drink of alcohol before age 13...</td>\n",
              "      <td>other than a few sips</td>\n",
              "      <td>196.0</td>\n",
              "      <td>Female</td>\n",
              "      <td>White</td>\n",
              "      <td>0</td>\n",
              "      <td>(39.493240390000494, -117.07184056399967)</td>\n",
              "      <td>H41</td>\n",
              "      <td>1</td>\n",
              "      <td>6</td>\n",
              "      <td>2</td>\n",
              "      <td>State</td>\n",
              "      <td>47.8132</td>\n",
              "    </tr>\n",
              "    <tr>\n",
              "      <th>4</th>\n",
              "      <td>2017</td>\n",
              "      <td>Pennsylvania</td>\n",
              "      <td>1</td>\n",
              "      <td>Ever used cocaine</td>\n",
              "      <td>any form of cocaine, such as powder, crack, or...</td>\n",
              "      <td>104.0</td>\n",
              "      <td>Male</td>\n",
              "      <td>Asian</td>\n",
              "      <td>4</td>\n",
              "      <td>(40.79373015200048, -77.86070029399963)</td>\n",
              "      <td>H49</td>\n",
              "      <td>2</td>\n",
              "      <td>2</td>\n",
              "      <td>0</td>\n",
              "      <td>State</td>\n",
              "      <td>3.4554</td>\n",
              "    </tr>\n",
              "    <tr>\n",
              "      <th>5</th>\n",
              "      <td>2007</td>\n",
              "      <td>San Francisco, CA</td>\n",
              "      <td>1</td>\n",
              "      <td>Ever took steroids without a doctor's prescrip...</td>\n",
              "      <td>pills or shots, one or more times during their...</td>\n",
              "      <td>100.0</td>\n",
              "      <td>Female</td>\n",
              "      <td>Multiple Race</td>\n",
              "      <td>4</td>\n",
              "      <td>(37.77493, -122.419416)</td>\n",
              "      <td>H55</td>\n",
              "      <td>1</td>\n",
              "      <td>7</td>\n",
              "      <td>0</td>\n",
              "      <td>Local</td>\n",
              "      <td>0.0000</td>\n",
              "    </tr>\n",
              "  </tbody>\n",
              "</table>\n",
              "</div>"
            ],
            "text/plain": [
              "            YEAR       LocationDesc  Subtopic  \\\n",
              "Patient_ID                                      \n",
              "1           1995        Houston, TX         1   \n",
              "2           1997        Houston, TX         0   \n",
              "3           1993             Nevada         0   \n",
              "4           2017       Pennsylvania         1   \n",
              "5           2007  San Francisco, CA         1   \n",
              "\n",
              "                                        Greater_Risk_Question  \\\n",
              "Patient_ID                                                      \n",
              "1                                           Ever used cocaine   \n",
              "2                                     Currently drank alcohol   \n",
              "3           Had their first drink of alcohol before age 13...   \n",
              "4                                           Ever used cocaine   \n",
              "5           Ever took steroids without a doctor's prescrip...   \n",
              "\n",
              "                                                  Description  Sample_Size  \\\n",
              "Patient_ID                                                                   \n",
              "1           any form of cocaine, such as powder, crack, or...        335.0   \n",
              "2           at least one drink of alcohol, on at least 1 d...        382.0   \n",
              "3                                       other than a few sips        196.0   \n",
              "4           any form of cocaine, such as powder, crack, or...        104.0   \n",
              "5           pills or shots, one or more times during their...        100.0   \n",
              "\n",
              "               Sex                       Race  Grade  \\\n",
              "Patient_ID                                             \n",
              "1           Female         Hispanic or Latino      4   \n",
              "2            Total  Black or African American      4   \n",
              "3           Female                      White      0   \n",
              "4             Male                      Asian      4   \n",
              "5           Female              Multiple Race      4   \n",
              "\n",
              "                                          GeoLocation QuestionCode  StratID1  \\\n",
              "Patient_ID                                                                     \n",
              "1                             (29.760427, -95.369803)          H49         1   \n",
              "2                             (29.760427, -95.369803)          H42         0   \n",
              "3           (39.493240390000494, -117.07184056399967)          H41         1   \n",
              "4             (40.79373015200048, -77.86070029399963)          H49         2   \n",
              "5                             (37.77493, -122.419416)          H55         1   \n",
              "\n",
              "            StratID2  StratID3 StratificationType  Greater_Risk_Probability  \n",
              "Patient_ID                                                                   \n",
              "1                  4         0              Local                    7.4793  \n",
              "2                  3         0              Local                   49.6852  \n",
              "3                  6         2              State                   47.8132  \n",
              "4                  2         0              State                    3.4554  \n",
              "5                  7         0              Local                    0.0000  "
            ]
          },
          "metadata": {
            "tags": []
          },
          "execution_count": 12
        }
      ]
    },
    {
      "cell_type": "markdown",
      "metadata": {
        "id": "gBkHtlCr4yBp",
        "colab_type": "text"
      },
      "source": [
        "##Removing Unnecessary columns which contains only question and question id\n",
        " **NOTE**\n",
        " 'Sub topic' is not removed because 0 means Alcohol and 1 means Cocain"
      ]
    },
    {
      "cell_type": "code",
      "metadata": {
        "id": "KXMYWq87u2ha",
        "colab_type": "code",
        "colab": {}
      },
      "source": [
        "#unnecessary_columns = ['GeoLocation','Greater_Risk_Question','Description','QuestionCode']"
      ],
      "execution_count": 0,
      "outputs": []
    },
    {
      "cell_type": "code",
      "metadata": {
        "id": "WSna7_Uf4r4K",
        "colab_type": "code",
        "colab": {}
      },
      "source": [
        "#df.drop(unnecessary_columns, axis=1, inplace=True)"
      ],
      "execution_count": 0,
      "outputs": []
    },
    {
      "cell_type": "code",
      "metadata": {
        "id": "ACrmbsYM4r1P",
        "colab_type": "code",
        "colab": {}
      },
      "source": [
        "#df.columns.to_series().groupby(df.dtypes).groups"
      ],
      "execution_count": 0,
      "outputs": []
    },
    {
      "cell_type": "code",
      "metadata": {
        "id": "Z40hCAX35jt6",
        "colab_type": "code",
        "colab": {}
      },
      "source": [
        "#columns_to_drop = ['StratID1','StratID2', 'StratID3','LocationDesc','Race','StratificationType']"
      ],
      "execution_count": 0,
      "outputs": []
    },
    {
      "cell_type": "code",
      "metadata": {
        "id": "aXZ5YOo7z0eo",
        "colab_type": "code",
        "colab": {}
      },
      "source": [
        "#modified_df = df.drop(columns_to_drop, axis = 1)"
      ],
      "execution_count": 0,
      "outputs": []
    },
    {
      "cell_type": "code",
      "metadata": {
        "id": "cS9tRZDO2Xlj",
        "colab_type": "code",
        "colab": {}
      },
      "source": [
        "#type(list(modified_df.columns.values))"
      ],
      "execution_count": 0,
      "outputs": []
    },
    {
      "cell_type": "markdown",
      "metadata": {
        "id": "6hXA1Pii57Op",
        "colab_type": "text"
      },
      "source": [
        "#Selecting Only useful Features"
      ]
    },
    {
      "cell_type": "code",
      "metadata": {
        "id": "ODDVcqEg7H74",
        "colab_type": "code",
        "colab": {}
      },
      "source": [
        "columns_selected = ['YEAR', 'Subtopic', 'Sample_Size', 'Sex', 'Grade', 'Race', 'Greater_Risk_Probability']"
      ],
      "execution_count": 0,
      "outputs": []
    },
    {
      "cell_type": "code",
      "metadata": {
        "id": "M9GIx-DG7hPO",
        "colab_type": "code",
        "colab": {}
      },
      "source": [
        "to_train_df = df[columns_selected]"
      ],
      "execution_count": 0,
      "outputs": []
    },
    {
      "cell_type": "code",
      "metadata": {
        "id": "7E4dZcY48Dc0",
        "colab_type": "code",
        "outputId": "b1cb65d5-3603-450a-a073-fd67088633f2",
        "colab": {
          "base_uri": "https://localhost:8080/",
          "height": 153
        }
      },
      "source": [
        "to_train_df.dtypes"
      ],
      "execution_count": 17,
      "outputs": [
        {
          "output_type": "execute_result",
          "data": {
            "text/plain": [
              "YEAR                          int64\n",
              "Subtopic                      int64\n",
              "Sample_Size                 float64\n",
              "Sex                          object\n",
              "Grade                         int64\n",
              "Race                         object\n",
              "Greater_Risk_Probability    float64\n",
              "dtype: object"
            ]
          },
          "metadata": {
            "tags": []
          },
          "execution_count": 17
        }
      ]
    },
    {
      "cell_type": "markdown",
      "metadata": {
        "id": "B4T0dPUvE7vq",
        "colab_type": "text"
      },
      "source": [
        "NOTE: **Changing some integer columns to Object type so that we can One Hot encode all object type columns in the dataframe easily with just a single line**"
      ]
    },
    {
      "cell_type": "code",
      "metadata": {
        "id": "fXlVbvcXX3Vd",
        "colab_type": "code",
        "outputId": "d1727c2b-5f10-4a2b-d69f-327b032c2153",
        "colab": {
          "base_uri": "https://localhost:8080/",
          "height": 119
        }
      },
      "source": [
        "for col in ['Subtopic']:\n",
        "    to_train_df[col] = to_train_df[col].astype(np.object)"
      ],
      "execution_count": 18,
      "outputs": [
        {
          "output_type": "stream",
          "text": [
            "/usr/local/lib/python3.6/dist-packages/ipykernel_launcher.py:2: SettingWithCopyWarning: \n",
            "A value is trying to be set on a copy of a slice from a DataFrame.\n",
            "Try using .loc[row_indexer,col_indexer] = value instead\n",
            "\n",
            "See the caveats in the documentation: http://pandas.pydata.org/pandas-docs/stable/indexing.html#indexing-view-versus-copy\n",
            "  \n"
          ],
          "name": "stderr"
        }
      ]
    },
    {
      "cell_type": "code",
      "metadata": {
        "id": "HePyP2A3X3S_",
        "colab_type": "code",
        "outputId": "8e160bcf-3e28-4b12-c15e-055830cd01cf",
        "colab": {
          "base_uri": "https://localhost:8080/",
          "height": 153
        }
      },
      "source": [
        "to_train_df.dtypes"
      ],
      "execution_count": 19,
      "outputs": [
        {
          "output_type": "execute_result",
          "data": {
            "text/plain": [
              "YEAR                          int64\n",
              "Subtopic                     object\n",
              "Sample_Size                 float64\n",
              "Sex                          object\n",
              "Grade                         int64\n",
              "Race                         object\n",
              "Greater_Risk_Probability    float64\n",
              "dtype: object"
            ]
          },
          "metadata": {
            "tags": []
          },
          "execution_count": 19
        }
      ]
    },
    {
      "cell_type": "markdown",
      "metadata": {
        "id": "SjNrQgn8FsZX",
        "colab_type": "text"
      },
      "source": [
        "#Converting all object type columns in the dataframe to Dummy columns (One-Hot-Encode)"
      ]
    },
    {
      "cell_type": "code",
      "metadata": {
        "id": "2h_z527udQuM",
        "colab_type": "code",
        "colab": {}
      },
      "source": [
        "df_to_train = pd.get_dummies(to_train_df)"
      ],
      "execution_count": 0,
      "outputs": []
    },
    {
      "cell_type": "code",
      "metadata": {
        "id": "xDfdfJ8Vd6Uo",
        "colab_type": "code",
        "outputId": "59e84369-4ad8-4d13-ad71-a03866f9e89a",
        "colab": {
          "base_uri": "https://localhost:8080/",
          "height": 323
        }
      },
      "source": [
        "df_to_train.head(5)"
      ],
      "execution_count": 21,
      "outputs": [
        {
          "output_type": "execute_result",
          "data": {
            "text/html": [
              "<div>\n",
              "<style scoped>\n",
              "    .dataframe tbody tr th:only-of-type {\n",
              "        vertical-align: middle;\n",
              "    }\n",
              "\n",
              "    .dataframe tbody tr th {\n",
              "        vertical-align: top;\n",
              "    }\n",
              "\n",
              "    .dataframe thead th {\n",
              "        text-align: right;\n",
              "    }\n",
              "</style>\n",
              "<table border=\"1\" class=\"dataframe\">\n",
              "  <thead>\n",
              "    <tr style=\"text-align: right;\">\n",
              "      <th></th>\n",
              "      <th>YEAR</th>\n",
              "      <th>Sample_Size</th>\n",
              "      <th>Grade</th>\n",
              "      <th>Greater_Risk_Probability</th>\n",
              "      <th>Subtopic_0</th>\n",
              "      <th>Subtopic_1</th>\n",
              "      <th>Sex_Female</th>\n",
              "      <th>Sex_Male</th>\n",
              "      <th>Sex_Total</th>\n",
              "      <th>Race_American Indian or Alaska Native</th>\n",
              "      <th>Race_Asian</th>\n",
              "      <th>Race_Black or African American</th>\n",
              "      <th>Race_Hispanic or Latino</th>\n",
              "      <th>Race_Multiple Race</th>\n",
              "      <th>Race_Native Hawaiian or Other Pacific Islander</th>\n",
              "      <th>Race_Total</th>\n",
              "      <th>Race_White</th>\n",
              "    </tr>\n",
              "    <tr>\n",
              "      <th>Patient_ID</th>\n",
              "      <th></th>\n",
              "      <th></th>\n",
              "      <th></th>\n",
              "      <th></th>\n",
              "      <th></th>\n",
              "      <th></th>\n",
              "      <th></th>\n",
              "      <th></th>\n",
              "      <th></th>\n",
              "      <th></th>\n",
              "      <th></th>\n",
              "      <th></th>\n",
              "      <th></th>\n",
              "      <th></th>\n",
              "      <th></th>\n",
              "      <th></th>\n",
              "      <th></th>\n",
              "    </tr>\n",
              "  </thead>\n",
              "  <tbody>\n",
              "    <tr>\n",
              "      <th>1</th>\n",
              "      <td>1995</td>\n",
              "      <td>335.0</td>\n",
              "      <td>4</td>\n",
              "      <td>7.4793</td>\n",
              "      <td>0</td>\n",
              "      <td>1</td>\n",
              "      <td>1</td>\n",
              "      <td>0</td>\n",
              "      <td>0</td>\n",
              "      <td>0</td>\n",
              "      <td>0</td>\n",
              "      <td>0</td>\n",
              "      <td>1</td>\n",
              "      <td>0</td>\n",
              "      <td>0</td>\n",
              "      <td>0</td>\n",
              "      <td>0</td>\n",
              "    </tr>\n",
              "    <tr>\n",
              "      <th>2</th>\n",
              "      <td>1997</td>\n",
              "      <td>382.0</td>\n",
              "      <td>4</td>\n",
              "      <td>49.6852</td>\n",
              "      <td>1</td>\n",
              "      <td>0</td>\n",
              "      <td>0</td>\n",
              "      <td>0</td>\n",
              "      <td>1</td>\n",
              "      <td>0</td>\n",
              "      <td>0</td>\n",
              "      <td>1</td>\n",
              "      <td>0</td>\n",
              "      <td>0</td>\n",
              "      <td>0</td>\n",
              "      <td>0</td>\n",
              "      <td>0</td>\n",
              "    </tr>\n",
              "    <tr>\n",
              "      <th>3</th>\n",
              "      <td>1993</td>\n",
              "      <td>196.0</td>\n",
              "      <td>0</td>\n",
              "      <td>47.8132</td>\n",
              "      <td>1</td>\n",
              "      <td>0</td>\n",
              "      <td>1</td>\n",
              "      <td>0</td>\n",
              "      <td>0</td>\n",
              "      <td>0</td>\n",
              "      <td>0</td>\n",
              "      <td>0</td>\n",
              "      <td>0</td>\n",
              "      <td>0</td>\n",
              "      <td>0</td>\n",
              "      <td>0</td>\n",
              "      <td>1</td>\n",
              "    </tr>\n",
              "    <tr>\n",
              "      <th>4</th>\n",
              "      <td>2017</td>\n",
              "      <td>104.0</td>\n",
              "      <td>4</td>\n",
              "      <td>3.4554</td>\n",
              "      <td>0</td>\n",
              "      <td>1</td>\n",
              "      <td>0</td>\n",
              "      <td>1</td>\n",
              "      <td>0</td>\n",
              "      <td>0</td>\n",
              "      <td>1</td>\n",
              "      <td>0</td>\n",
              "      <td>0</td>\n",
              "      <td>0</td>\n",
              "      <td>0</td>\n",
              "      <td>0</td>\n",
              "      <td>0</td>\n",
              "    </tr>\n",
              "    <tr>\n",
              "      <th>5</th>\n",
              "      <td>2007</td>\n",
              "      <td>100.0</td>\n",
              "      <td>4</td>\n",
              "      <td>0.0000</td>\n",
              "      <td>0</td>\n",
              "      <td>1</td>\n",
              "      <td>1</td>\n",
              "      <td>0</td>\n",
              "      <td>0</td>\n",
              "      <td>0</td>\n",
              "      <td>0</td>\n",
              "      <td>0</td>\n",
              "      <td>0</td>\n",
              "      <td>1</td>\n",
              "      <td>0</td>\n",
              "      <td>0</td>\n",
              "      <td>0</td>\n",
              "    </tr>\n",
              "  </tbody>\n",
              "</table>\n",
              "</div>"
            ],
            "text/plain": [
              "            YEAR  Sample_Size  Grade  Greater_Risk_Probability  Subtopic_0  \\\n",
              "Patient_ID                                                                   \n",
              "1           1995        335.0      4                    7.4793           0   \n",
              "2           1997        382.0      4                   49.6852           1   \n",
              "3           1993        196.0      0                   47.8132           1   \n",
              "4           2017        104.0      4                    3.4554           0   \n",
              "5           2007        100.0      4                    0.0000           0   \n",
              "\n",
              "            Subtopic_1  Sex_Female  Sex_Male  Sex_Total  \\\n",
              "Patient_ID                                                \n",
              "1                    1           1         0          0   \n",
              "2                    0           0         0          1   \n",
              "3                    0           1         0          0   \n",
              "4                    1           0         1          0   \n",
              "5                    1           1         0          0   \n",
              "\n",
              "            Race_American Indian or Alaska Native  Race_Asian  \\\n",
              "Patient_ID                                                      \n",
              "1                                               0           0   \n",
              "2                                               0           0   \n",
              "3                                               0           0   \n",
              "4                                               0           1   \n",
              "5                                               0           0   \n",
              "\n",
              "            Race_Black or African American  Race_Hispanic or Latino  \\\n",
              "Patient_ID                                                            \n",
              "1                                        0                        1   \n",
              "2                                        1                        0   \n",
              "3                                        0                        0   \n",
              "4                                        0                        0   \n",
              "5                                        0                        0   \n",
              "\n",
              "            Race_Multiple Race  \\\n",
              "Patient_ID                       \n",
              "1                            0   \n",
              "2                            0   \n",
              "3                            0   \n",
              "4                            0   \n",
              "5                            1   \n",
              "\n",
              "            Race_Native Hawaiian or Other Pacific Islander  Race_Total  \\\n",
              "Patient_ID                                                               \n",
              "1                                                        0           0   \n",
              "2                                                        0           0   \n",
              "3                                                        0           0   \n",
              "4                                                        0           0   \n",
              "5                                                        0           0   \n",
              "\n",
              "            Race_White  \n",
              "Patient_ID              \n",
              "1                    0  \n",
              "2                    0  \n",
              "3                    1  \n",
              "4                    0  \n",
              "5                    0  "
            ]
          },
          "metadata": {
            "tags": []
          },
          "execution_count": 21
        }
      ]
    },
    {
      "cell_type": "code",
      "metadata": {
        "id": "XoaHsFei9-pY",
        "colab_type": "code",
        "colab": {}
      },
      "source": [
        ""
      ],
      "execution_count": 0,
      "outputs": []
    },
    {
      "cell_type": "code",
      "metadata": {
        "id": "-PyV99YxysVZ",
        "colab_type": "code",
        "colab": {}
      },
      "source": [
        "#does not contain the column to predict\n",
        "X_main = df_to_train.drop('Greater_Risk_Probability', axis=1)"
      ],
      "execution_count": 0,
      "outputs": []
    },
    {
      "cell_type": "code",
      "metadata": {
        "id": "VqhpOM9x0Ga0",
        "colab_type": "code",
        "colab": {}
      },
      "source": [
        "y_main = df_to_train['Greater_Risk_Probability']"
      ],
      "execution_count": 0,
      "outputs": []
    },
    {
      "cell_type": "markdown",
      "metadata": {
        "id": "aHW3ioRqQPgo",
        "colab_type": "text"
      },
      "source": [
        "#Shuffel the data"
      ]
    },
    {
      "cell_type": "code",
      "metadata": {
        "id": "E2gu9AVyQPG2",
        "colab_type": "code",
        "colab": {}
      },
      "source": [
        "from sklearn.utils import shuffle\n",
        "X_main, y_main = shuffle(X_main, y_main)"
      ],
      "execution_count": 0,
      "outputs": []
    },
    {
      "cell_type": "code",
      "metadata": {
        "id": "JzfSoVbR0JJE",
        "colab_type": "code",
        "colab": {}
      },
      "source": [
        "#Import sklearn \n",
        "from sklearn.model_selection import train_test_split\n",
        "from sklearn.metrics import mean_absolute_error\n",
        "from sklearn.metrics import mean_squared_error\n",
        "from math import sqrt\n",
        "from sklearn.preprocessing import MinMaxScaler\n",
        "from sklearn.preprocessing import StandardScaler\n"
      ],
      "execution_count": 0,
      "outputs": []
    },
    {
      "cell_type": "markdown",
      "metadata": {
        "id": "e8N6WKYGBXBM",
        "colab_type": "text"
      },
      "source": [
        "###Split Train and Test the train csv file data"
      ]
    },
    {
      "cell_type": "code",
      "metadata": {
        "id": "_-b719vE0hQR",
        "colab_type": "code",
        "colab": {}
      },
      "source": [
        "train_X, test_X, train_y, test_y = train_test_split(X_main.values, y_main.values, test_size=0.3)"
      ],
      "execution_count": 0,
      "outputs": []
    },
    {
      "cell_type": "code",
      "metadata": {
        "id": "RA9kOgCzB7Eh",
        "colab_type": "code",
        "outputId": "06110729-06cf-4f46-b975-24047eb1ed73",
        "colab": {
          "base_uri": "https://localhost:8080/",
          "height": 85
        }
      },
      "source": [
        "print(\"Train X\", train_X.shape)\n",
        "print(\"Train y\", train_y.shape)\n",
        "print(\"Test X\", test_X.shape)\n",
        "print(\"Test X\", test_y.shape)"
      ],
      "execution_count": 85,
      "outputs": [
        {
          "output_type": "stream",
          "text": [
            "Train X (38779, 16)\n",
            "Train y (38779,)\n",
            "Test X (16620, 16)\n",
            "Test X (16620,)\n"
          ],
          "name": "stdout"
        }
      ]
    },
    {
      "cell_type": "code",
      "metadata": {
        "id": "Z-AWE1sWQI5u",
        "colab_type": "code",
        "colab": {}
      },
      "source": [
        "from sklearn.utils import shuffle\n",
        "train_X, train_y = shuffle(train_X, train_y)\n",
        "test_X, test_y = shuffle(test_X, test_y)"
      ],
      "execution_count": 0,
      "outputs": []
    },
    {
      "cell_type": "markdown",
      "metadata": {
        "id": "EY5ddLmDAx1A",
        "colab_type": "text"
      },
      "source": [
        "#XGBoost Model"
      ]
    },
    {
      "cell_type": "code",
      "metadata": {
        "id": "igxMPCEb_1zV",
        "colab_type": "code",
        "colab": {}
      },
      "source": [
        "from xgboost import XGBRegressor\n",
        "\n",
        "my_model = XGBRegressor(n_estimators=1000, \n",
        "                        learning_rate=0.2, \n",
        "                        max_depth=10, \n",
        "                        random_state=42)"
      ],
      "execution_count": 0,
      "outputs": []
    },
    {
      "cell_type": "code",
      "metadata": {
        "id": "9PCkewl1_82C",
        "colab_type": "code",
        "outputId": "384135e8-a58b-4c30-d5cb-331af4bd8fa2",
        "colab": {
          "base_uri": "https://localhost:8080/",
          "height": 136
        }
      },
      "source": [
        "#my_model.fit(X_main.values, y_main.values, \n",
        "#             early_stopping_rounds=5, \n",
        "#             eval_set=[(train_X, train_y)], \n",
        "#             verbose=False)\n",
        "\n",
        "my_model.fit(train_X, train_y, \n",
        "             early_stopping_rounds=8, \n",
        "             eval_set=[(test_X, test_y)], \n",
        "             verbose=False)"
      ],
      "execution_count": 88,
      "outputs": [
        {
          "output_type": "execute_result",
          "data": {
            "text/plain": [
              "XGBRegressor(base_score=0.5, booster='gbtree', colsample_bylevel=1,\n",
              "       colsample_bytree=1, gamma=0, importance_type='gain',\n",
              "       learning_rate=0.2, max_delta_step=0, max_depth=10,\n",
              "       min_child_weight=1, missing=None, n_estimators=1000, n_jobs=1,\n",
              "       nthread=None, objective='reg:linear', random_state=42, reg_alpha=0,\n",
              "       reg_lambda=1, scale_pos_weight=1, seed=None, silent=True,\n",
              "       subsample=1)"
            ]
          },
          "metadata": {
            "tags": []
          },
          "execution_count": 88
        }
      ]
    },
    {
      "cell_type": "code",
      "metadata": {
        "id": "Eh9HCK4_CwLW",
        "colab_type": "code",
        "outputId": "ceee6d23-ea5a-4aab-cb77-3e79f4115d4d",
        "colab": {
          "base_uri": "https://localhost:8080/",
          "height": 51
        }
      },
      "source": [
        "predictions = my_model.predict(test_X)\n",
        "\n",
        "print(\"Mean Absolute Error : \" + str(mean_absolute_error(predictions, test_y)))\n",
        "print(\"Root Mean Squared Error : \" + str(sqrt(mean_squared_error(predictions, test_y))))"
      ],
      "execution_count": 89,
      "outputs": [
        {
          "output_type": "stream",
          "text": [
            "Mean Absolute Error : 12.275554711602481\n",
            "Root Mean Squared Error : 15.801463805421669\n"
          ],
          "name": "stdout"
        }
      ]
    },
    {
      "cell_type": "markdown",
      "metadata": {
        "id": "hNhEKvVy_o8N",
        "colab_type": "text"
      },
      "source": [
        "Comparing the predictions with the original values"
      ]
    },
    {
      "cell_type": "code",
      "metadata": {
        "id": "9UMQryjG8S1i",
        "colab_type": "code",
        "outputId": "bd993d59-063f-4b85-cbfe-bf1ad73adb90",
        "colab": {
          "base_uri": "https://localhost:8080/",
          "height": 359
        }
      },
      "source": [
        "d = {'Real Values': test_y, 'Predictions': predictions}\n",
        "pd.DataFrame(data=d).head(10)"
      ],
      "execution_count": 90,
      "outputs": [
        {
          "output_type": "execute_result",
          "data": {
            "text/html": [
              "<div>\n",
              "<style scoped>\n",
              "    .dataframe tbody tr th:only-of-type {\n",
              "        vertical-align: middle;\n",
              "    }\n",
              "\n",
              "    .dataframe tbody tr th {\n",
              "        vertical-align: top;\n",
              "    }\n",
              "\n",
              "    .dataframe thead th {\n",
              "        text-align: right;\n",
              "    }\n",
              "</style>\n",
              "<table border=\"1\" class=\"dataframe\">\n",
              "  <thead>\n",
              "    <tr style=\"text-align: right;\">\n",
              "      <th></th>\n",
              "      <th>Real Values</th>\n",
              "      <th>Predictions</th>\n",
              "    </tr>\n",
              "  </thead>\n",
              "  <tbody>\n",
              "    <tr>\n",
              "      <th>0</th>\n",
              "      <td>3.4733</td>\n",
              "      <td>12.444678</td>\n",
              "    </tr>\n",
              "    <tr>\n",
              "      <th>1</th>\n",
              "      <td>6.7019</td>\n",
              "      <td>12.185646</td>\n",
              "    </tr>\n",
              "    <tr>\n",
              "      <th>2</th>\n",
              "      <td>23.2460</td>\n",
              "      <td>15.757608</td>\n",
              "    </tr>\n",
              "    <tr>\n",
              "      <th>3</th>\n",
              "      <td>39.1452</td>\n",
              "      <td>19.646898</td>\n",
              "    </tr>\n",
              "    <tr>\n",
              "      <th>4</th>\n",
              "      <td>38.9155</td>\n",
              "      <td>52.925308</td>\n",
              "    </tr>\n",
              "    <tr>\n",
              "      <th>5</th>\n",
              "      <td>17.9872</td>\n",
              "      <td>20.370230</td>\n",
              "    </tr>\n",
              "    <tr>\n",
              "      <th>6</th>\n",
              "      <td>3.4642</td>\n",
              "      <td>22.159639</td>\n",
              "    </tr>\n",
              "    <tr>\n",
              "      <th>7</th>\n",
              "      <td>42.0606</td>\n",
              "      <td>18.109419</td>\n",
              "    </tr>\n",
              "    <tr>\n",
              "      <th>8</th>\n",
              "      <td>73.8614</td>\n",
              "      <td>44.669899</td>\n",
              "    </tr>\n",
              "    <tr>\n",
              "      <th>9</th>\n",
              "      <td>12.5775</td>\n",
              "      <td>17.324911</td>\n",
              "    </tr>\n",
              "  </tbody>\n",
              "</table>\n",
              "</div>"
            ],
            "text/plain": [
              "   Real Values  Predictions\n",
              "0       3.4733    12.444678\n",
              "1       6.7019    12.185646\n",
              "2      23.2460    15.757608\n",
              "3      39.1452    19.646898\n",
              "4      38.9155    52.925308\n",
              "5      17.9872    20.370230\n",
              "6       3.4642    22.159639\n",
              "7      42.0606    18.109419\n",
              "8      73.8614    44.669899\n",
              "9      12.5775    17.324911"
            ]
          },
          "metadata": {
            "tags": []
          },
          "execution_count": 90
        }
      ]
    },
    {
      "cell_type": "code",
      "metadata": {
        "id": "nCcKt4mi_TBd",
        "colab_type": "code",
        "outputId": "e02ffa6d-22a2-4eda-dd78-8befc6788a9e",
        "colab": {
          "base_uri": "https://localhost:8080/",
          "height": 297
        }
      },
      "source": [
        "pd.DataFrame(data=d).describe()"
      ],
      "execution_count": 91,
      "outputs": [
        {
          "output_type": "execute_result",
          "data": {
            "text/html": [
              "<div>\n",
              "<style scoped>\n",
              "    .dataframe tbody tr th:only-of-type {\n",
              "        vertical-align: middle;\n",
              "    }\n",
              "\n",
              "    .dataframe tbody tr th {\n",
              "        vertical-align: top;\n",
              "    }\n",
              "\n",
              "    .dataframe thead th {\n",
              "        text-align: right;\n",
              "    }\n",
              "</style>\n",
              "<table border=\"1\" class=\"dataframe\">\n",
              "  <thead>\n",
              "    <tr style=\"text-align: right;\">\n",
              "      <th></th>\n",
              "      <th>Real Values</th>\n",
              "      <th>Predictions</th>\n",
              "    </tr>\n",
              "  </thead>\n",
              "  <tbody>\n",
              "    <tr>\n",
              "      <th>count</th>\n",
              "      <td>16620.000000</td>\n",
              "      <td>16620.000000</td>\n",
              "    </tr>\n",
              "    <tr>\n",
              "      <th>mean</th>\n",
              "      <td>24.475379</td>\n",
              "      <td>23.522116</td>\n",
              "    </tr>\n",
              "    <tr>\n",
              "      <th>std</th>\n",
              "      <td>20.598866</td>\n",
              "      <td>13.281174</td>\n",
              "    </tr>\n",
              "    <tr>\n",
              "      <th>min</th>\n",
              "      <td>0.000000</td>\n",
              "      <td>2.181649</td>\n",
              "    </tr>\n",
              "    <tr>\n",
              "      <th>25%</th>\n",
              "      <td>8.213325</td>\n",
              "      <td>14.838758</td>\n",
              "    </tr>\n",
              "    <tr>\n",
              "      <th>50%</th>\n",
              "      <td>17.582650</td>\n",
              "      <td>18.087729</td>\n",
              "    </tr>\n",
              "    <tr>\n",
              "      <th>75%</th>\n",
              "      <td>35.909800</td>\n",
              "      <td>26.088743</td>\n",
              "    </tr>\n",
              "    <tr>\n",
              "      <th>max</th>\n",
              "      <td>96.651000</td>\n",
              "      <td>76.920319</td>\n",
              "    </tr>\n",
              "  </tbody>\n",
              "</table>\n",
              "</div>"
            ],
            "text/plain": [
              "        Real Values   Predictions\n",
              "count  16620.000000  16620.000000\n",
              "mean      24.475379     23.522116\n",
              "std       20.598866     13.281174\n",
              "min        0.000000      2.181649\n",
              "25%        8.213325     14.838758\n",
              "50%       17.582650     18.087729\n",
              "75%       35.909800     26.088743\n",
              "max       96.651000     76.920319"
            ]
          },
          "metadata": {
            "tags": []
          },
          "execution_count": 91
        }
      ]
    },
    {
      "cell_type": "markdown",
      "metadata": {
        "id": "vfxlVauv8dzo",
        "colab_type": "text"
      },
      "source": [
        "### Trying the same with Scaled Input using standard Scaler"
      ]
    },
    {
      "cell_type": "code",
      "metadata": {
        "id": "3E48kKH18ce7",
        "colab_type": "code",
        "colab": {}
      },
      "source": [
        "scaler = StandardScaler()\n",
        "train_X_scaled = scaler.fit_transform(train_X)\n",
        "test_X_scaled = scaler.fit_transform(test_X)"
      ],
      "execution_count": 0,
      "outputs": []
    },
    {
      "cell_type": "code",
      "metadata": {
        "id": "in5HYg__8ccg",
        "colab_type": "code",
        "colab": {}
      },
      "source": [
        "from xgboost import XGBRegressor\n",
        "\n",
        "my_scaled_model = XGBRegressor(n_estimators=1000, \n",
        "                        learning_rate=0.2, \n",
        "                        max_depth=10, \n",
        "                        random_state=2)"
      ],
      "execution_count": 0,
      "outputs": []
    },
    {
      "cell_type": "code",
      "metadata": {
        "id": "QMP8yww-8caB",
        "colab_type": "code",
        "outputId": "2297340c-0b52-48b4-85cd-4134471e2007",
        "colab": {
          "base_uri": "https://localhost:8080/",
          "height": 136
        }
      },
      "source": [
        "my_scaled_model.fit(train_X_scaled, train_y, \n",
        "             early_stopping_rounds=5, \n",
        "             eval_set=[(test_X_scaled, test_y)], \n",
        "             verbose=False)\n",
        "\n",
        "#my_model.fit(train_X, train_y, \n",
        "#             early_stopping_rounds=5, \n",
        "#             eval_set=[(test_X, test_y)], \n",
        "#             verbose=False)"
      ],
      "execution_count": 94,
      "outputs": [
        {
          "output_type": "execute_result",
          "data": {
            "text/plain": [
              "XGBRegressor(base_score=0.5, booster='gbtree', colsample_bylevel=1,\n",
              "       colsample_bytree=1, gamma=0, importance_type='gain',\n",
              "       learning_rate=0.2, max_delta_step=0, max_depth=10,\n",
              "       min_child_weight=1, missing=None, n_estimators=1000, n_jobs=1,\n",
              "       nthread=None, objective='reg:linear', random_state=2, reg_alpha=0,\n",
              "       reg_lambda=1, scale_pos_weight=1, seed=None, silent=True,\n",
              "       subsample=1)"
            ]
          },
          "metadata": {
            "tags": []
          },
          "execution_count": 94
        }
      ]
    },
    {
      "cell_type": "code",
      "metadata": {
        "id": "aDWfXD138cW4",
        "colab_type": "code",
        "outputId": "7912af21-9aee-4cc8-fe04-7bffab49e126",
        "colab": {
          "base_uri": "https://localhost:8080/",
          "height": 51
        }
      },
      "source": [
        "predictions_scaled = my_scaled_model.predict(test_X)\n",
        "\n",
        "print(\"Mean Absolute Error : \" + str(mean_absolute_error(predictions, test_y)))\n",
        "print(\"Root Mean Squared Error : \" + str(sqrt(mean_squared_error(predictions, test_y))))"
      ],
      "execution_count": 95,
      "outputs": [
        {
          "output_type": "stream",
          "text": [
            "Mean Absolute Error : 12.275554711602481\n",
            "Root Mean Squared Error : 15.801463805421669\n"
          ],
          "name": "stdout"
        }
      ]
    },
    {
      "cell_type": "code",
      "metadata": {
        "id": "avD4-Anl8cP1",
        "colab_type": "code",
        "outputId": "594c9bec-e239-4ff9-9414-2db403da6aa6",
        "colab": {
          "base_uri": "https://localhost:8080/",
          "height": 359
        }
      },
      "source": [
        "d_scaled = {'col1': test_y, 'col2': predictions_scaled}\n",
        "pd.DataFrame(data=d_scaled).head(10)"
      ],
      "execution_count": 96,
      "outputs": [
        {
          "output_type": "execute_result",
          "data": {
            "text/html": [
              "<div>\n",
              "<style scoped>\n",
              "    .dataframe tbody tr th:only-of-type {\n",
              "        vertical-align: middle;\n",
              "    }\n",
              "\n",
              "    .dataframe tbody tr th {\n",
              "        vertical-align: top;\n",
              "    }\n",
              "\n",
              "    .dataframe thead th {\n",
              "        text-align: right;\n",
              "    }\n",
              "</style>\n",
              "<table border=\"1\" class=\"dataframe\">\n",
              "  <thead>\n",
              "    <tr style=\"text-align: right;\">\n",
              "      <th></th>\n",
              "      <th>col1</th>\n",
              "      <th>col2</th>\n",
              "    </tr>\n",
              "  </thead>\n",
              "  <tbody>\n",
              "    <tr>\n",
              "      <th>0</th>\n",
              "      <td>3.4733</td>\n",
              "      <td>22.005516</td>\n",
              "    </tr>\n",
              "    <tr>\n",
              "      <th>1</th>\n",
              "      <td>6.7019</td>\n",
              "      <td>8.047302</td>\n",
              "    </tr>\n",
              "    <tr>\n",
              "      <th>2</th>\n",
              "      <td>23.2460</td>\n",
              "      <td>8.047302</td>\n",
              "    </tr>\n",
              "    <tr>\n",
              "      <th>3</th>\n",
              "      <td>39.1452</td>\n",
              "      <td>11.677471</td>\n",
              "    </tr>\n",
              "    <tr>\n",
              "      <th>4</th>\n",
              "      <td>38.9155</td>\n",
              "      <td>20.600437</td>\n",
              "    </tr>\n",
              "    <tr>\n",
              "      <th>5</th>\n",
              "      <td>17.9872</td>\n",
              "      <td>8.104034</td>\n",
              "    </tr>\n",
              "    <tr>\n",
              "      <th>6</th>\n",
              "      <td>3.4642</td>\n",
              "      <td>9.857497</td>\n",
              "    </tr>\n",
              "    <tr>\n",
              "      <th>7</th>\n",
              "      <td>42.0606</td>\n",
              "      <td>11.677471</td>\n",
              "    </tr>\n",
              "    <tr>\n",
              "      <th>8</th>\n",
              "      <td>73.8614</td>\n",
              "      <td>24.208683</td>\n",
              "    </tr>\n",
              "    <tr>\n",
              "      <th>9</th>\n",
              "      <td>12.5775</td>\n",
              "      <td>9.310909</td>\n",
              "    </tr>\n",
              "  </tbody>\n",
              "</table>\n",
              "</div>"
            ],
            "text/plain": [
              "      col1       col2\n",
              "0   3.4733  22.005516\n",
              "1   6.7019   8.047302\n",
              "2  23.2460   8.047302\n",
              "3  39.1452  11.677471\n",
              "4  38.9155  20.600437\n",
              "5  17.9872   8.104034\n",
              "6   3.4642   9.857497\n",
              "7  42.0606  11.677471\n",
              "8  73.8614  24.208683\n",
              "9  12.5775   9.310909"
            ]
          },
          "metadata": {
            "tags": []
          },
          "execution_count": 96
        }
      ]
    },
    {
      "cell_type": "code",
      "metadata": {
        "id": "oQO2uHj9-oYF",
        "colab_type": "code",
        "outputId": "18bcfad0-fda8-4f16-879b-9c80071da018",
        "colab": {
          "base_uri": "https://localhost:8080/",
          "height": 297
        }
      },
      "source": [
        "pd.DataFrame(data=d_scaled).head(10).describe()"
      ],
      "execution_count": 97,
      "outputs": [
        {
          "output_type": "execute_result",
          "data": {
            "text/html": [
              "<div>\n",
              "<style scoped>\n",
              "    .dataframe tbody tr th:only-of-type {\n",
              "        vertical-align: middle;\n",
              "    }\n",
              "\n",
              "    .dataframe tbody tr th {\n",
              "        vertical-align: top;\n",
              "    }\n",
              "\n",
              "    .dataframe thead th {\n",
              "        text-align: right;\n",
              "    }\n",
              "</style>\n",
              "<table border=\"1\" class=\"dataframe\">\n",
              "  <thead>\n",
              "    <tr style=\"text-align: right;\">\n",
              "      <th></th>\n",
              "      <th>col1</th>\n",
              "      <th>col2</th>\n",
              "    </tr>\n",
              "  </thead>\n",
              "  <tbody>\n",
              "    <tr>\n",
              "      <th>count</th>\n",
              "      <td>10.000000</td>\n",
              "      <td>10.000000</td>\n",
              "    </tr>\n",
              "    <tr>\n",
              "      <th>mean</th>\n",
              "      <td>26.143280</td>\n",
              "      <td>13.353662</td>\n",
              "    </tr>\n",
              "    <tr>\n",
              "      <th>std</th>\n",
              "      <td>22.429499</td>\n",
              "      <td>6.353140</td>\n",
              "    </tr>\n",
              "    <tr>\n",
              "      <th>min</th>\n",
              "      <td>3.464200</td>\n",
              "      <td>8.047302</td>\n",
              "    </tr>\n",
              "    <tr>\n",
              "      <th>25%</th>\n",
              "      <td>8.170800</td>\n",
              "      <td>8.405753</td>\n",
              "    </tr>\n",
              "    <tr>\n",
              "      <th>50%</th>\n",
              "      <td>20.616600</td>\n",
              "      <td>10.767484</td>\n",
              "    </tr>\n",
              "    <tr>\n",
              "      <th>75%</th>\n",
              "      <td>39.087775</td>\n",
              "      <td>18.369696</td>\n",
              "    </tr>\n",
              "    <tr>\n",
              "      <th>max</th>\n",
              "      <td>73.861400</td>\n",
              "      <td>24.208683</td>\n",
              "    </tr>\n",
              "  </tbody>\n",
              "</table>\n",
              "</div>"
            ],
            "text/plain": [
              "            col1       col2\n",
              "count  10.000000  10.000000\n",
              "mean   26.143280  13.353662\n",
              "std    22.429499   6.353140\n",
              "min     3.464200   8.047302\n",
              "25%     8.170800   8.405753\n",
              "50%    20.616600  10.767484\n",
              "75%    39.087775  18.369696\n",
              "max    73.861400  24.208683"
            ]
          },
          "metadata": {
            "tags": []
          },
          "execution_count": 97
        }
      ]
    },
    {
      "cell_type": "markdown",
      "metadata": {
        "id": "wqrjwjeNrb88",
        "colab_type": "text"
      },
      "source": [
        "#Saving Model"
      ]
    },
    {
      "cell_type": "code",
      "metadata": {
        "id": "j6JL4So74nWF",
        "colab_type": "code",
        "colab": {}
      },
      "source": [
        "modelname = 'model_to_submit_02.pickle.dat';\n",
        "fullpath = '/content/drive/My Drive/csvs/'+modelname;"
      ],
      "execution_count": 0,
      "outputs": []
    },
    {
      "cell_type": "code",
      "metadata": {
        "id": "BGL-SkZHyeyN",
        "colab_type": "code",
        "colab": {}
      },
      "source": [
        "import pickle"
      ],
      "execution_count": 0,
      "outputs": []
    },
    {
      "cell_type": "code",
      "metadata": {
        "id": "6_9ZZUp7reAl",
        "colab_type": "code",
        "colab": {}
      },
      "source": [
        "# save model to file\n",
        "\n",
        "pickle.dump(my_model, open(fullpath, \"wb\"))\n",
        " \n",
        "## some time later...\n",
        "# \n",
        "## load model from file\n",
        "#loaded_model = pickle.load(open(\"/content/drive/My Drive/csvs/Test1.pickle.dat\", \"rb\"))\n",
        "## make predictions for test data\n",
        "#y_pred = loaded_model.predict(X_test)"
      ],
      "execution_count": 0,
      "outputs": []
    },
    {
      "cell_type": "code",
      "metadata": {
        "id": "vlHMGPfkrd7m",
        "colab_type": "code",
        "colab": {}
      },
      "source": [
        "# load model from file\n",
        "#loaded_model = pickle.load(open(\"/content/drive/My Drive/csvs/final_to_submit.pickle.dat\", \"rb\"))\n",
        "# make predictions for test data\n",
        "#y_pred = loaded_model.predict(test_X)"
      ],
      "execution_count": 0,
      "outputs": []
    },
    {
      "cell_type": "code",
      "metadata": {
        "id": "3g2ZQygxrd5W",
        "colab_type": "code",
        "colab": {}
      },
      "source": [
        "print(\"Mean Absolute Error : \" + str(mean_absolute_error(y_pred, test_y)))\n",
        "print(\"Mean Squared Error : \" + str(sqrt(mean_squared_error(y_pred, test_y))))\n"
      ],
      "execution_count": 0,
      "outputs": []
    }
  ]
}